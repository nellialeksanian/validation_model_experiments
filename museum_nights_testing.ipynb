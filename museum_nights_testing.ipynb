{
  "nbformat": 4,
  "nbformat_minor": 0,
  "metadata": {
    "colab": {
      "provenance": []
    },
    "kernelspec": {
      "name": "python3",
      "display_name": "Python 3"
    },
    "language_info": {
      "name": "python"
    }
  },
  "cells": [
    {
      "cell_type": "code",
      "execution_count": null,
      "metadata": {
        "id": "nEEM52iej2i3"
      },
      "outputs": [],
      "source": [
        "import pandas as pd\n",
        "from sklearn.metrics import classification_report"
      ]
    },
    {
      "cell_type": "code",
      "source": [
        "questions = pd.read_csv(\"/content/questions_after_testing_new_final.csv\")\n",
        "summary = pd.read_csv(\"/content/summary_after_testing_new_final.csv\")"
      ],
      "metadata": {
        "id": "CcAPX40yj-tI"
      },
      "execution_count": null,
      "outputs": []
    },
    {
      "cell_type": "code",
      "source": [
        "summary = summary.dropna()"
      ],
      "metadata": {
        "id": "WL-GrnC9kUEP"
      },
      "execution_count": null,
      "outputs": []
    },
    {
      "cell_type": "code",
      "source": [
        "summary = summary[summary['question'] == \"Опиши картину\"]"
      ],
      "metadata": {
        "id": "75XBiHjxwJHu"
      },
      "execution_count": null,
      "outputs": []
    },
    {
      "cell_type": "code",
      "source": [
        "questions['result_num'] = questions['result'].map({True: 1, False: 0})\n",
        "questions['true_result'] = questions['is_hallucinated'].map({True: 1, False: 0})"
      ],
      "metadata": {
        "id": "P5zGR8m-wkzu"
      },
      "execution_count": null,
      "outputs": []
    },
    {
      "cell_type": "code",
      "source": [
        "summary['result_num'] = summary['result'].str.lower().map({\"hallucinated\": 1, \"faithful\": 0})\n",
        "summary['true_result'] = summary['is_hallucinated'].str.lower().map({\"hallucinated\": 1, \"hallucinated \": 1, \"hallucination\": 1, \"faithful \": 0, \"faithful\": 0})"
      ],
      "metadata": {
        "id": "lbc5v_AJw9Ly"
      },
      "execution_count": null,
      "outputs": []
    },
    {
      "cell_type": "code",
      "source": [
        "summary.info()"
      ],
      "metadata": {
        "colab": {
          "base_uri": "https://localhost:8080/"
        },
        "id": "PRO_j0nvRWUL",
        "outputId": "313e8eb6-4630-42a1-fae7-c0954e4627c7"
      },
      "execution_count": null,
      "outputs": [
        {
          "output_type": "stream",
          "name": "stdout",
          "text": [
            "<class 'pandas.core.frame.DataFrame'>\n",
            "Index: 203 entries, 0 to 208\n",
            "Data columns (total 10 columns):\n",
            " #   Column           Non-Null Count  Dtype \n",
            "---  ------           --------------  ----- \n",
            " 0   id               203 non-null    int64 \n",
            " 1   session_id       203 non-null    object\n",
            " 2   context          203 non-null    object\n",
            " 3   question         203 non-null    object\n",
            " 4   answer           203 non-null    object\n",
            " 5   is_hallucinated  203 non-null    object\n",
            " 6   result           203 non-null    object\n",
            " 7   created_at       203 non-null    object\n",
            " 8   result_num       203 non-null    int64 \n",
            " 9   true_result      203 non-null    int64 \n",
            "dtypes: int64(3), object(7)\n",
            "memory usage: 17.4+ KB\n"
          ]
        }
      ]
    },
    {
      "cell_type": "code",
      "source": [
        "questions.info()"
      ],
      "metadata": {
        "colab": {
          "base_uri": "https://localhost:8080/"
        },
        "id": "GnDYAf1wRZWW",
        "outputId": "4a588cc4-ce37-4ee9-b81c-7d9de26a04d7"
      },
      "execution_count": null,
      "outputs": [
        {
          "output_type": "stream",
          "name": "stdout",
          "text": [
            "<class 'pandas.core.frame.DataFrame'>\n",
            "RangeIndex: 58 entries, 0 to 57\n",
            "Data columns (total 11 columns):\n",
            " #   Column           Non-Null Count  Dtype \n",
            "---  ------           --------------  ----- \n",
            " 0   Unnamed: 0       58 non-null     int64 \n",
            " 1   id               58 non-null     int64 \n",
            " 2   context          58 non-null     object\n",
            " 3   question         58 non-null     object\n",
            " 4   answer           58 non-null     object\n",
            " 5   is_hallucinated  58 non-null     bool  \n",
            " 6   result           58 non-null     bool  \n",
            " 7   session_id       58 non-null     object\n",
            " 8   created_at       58 non-null     object\n",
            " 9   result_num       58 non-null     int64 \n",
            " 10  true_result      58 non-null     int64 \n",
            "dtypes: bool(2), int64(4), object(5)\n",
            "memory usage: 4.3+ KB\n"
          ]
        }
      ]
    },
    {
      "cell_type": "code",
      "source": [
        "report = classification_report(questions['true_result'], questions['result_num'])\n",
        "print(report)"
      ],
      "metadata": {
        "colab": {
          "base_uri": "https://localhost:8080/"
        },
        "id": "OTt9_eiwE_bt",
        "outputId": "62e23cb9-1fe3-4d93-f90e-0f6bcb9c4b44"
      },
      "execution_count": null,
      "outputs": [
        {
          "output_type": "stream",
          "name": "stdout",
          "text": [
            "              precision    recall  f1-score   support\n",
            "\n",
            "           0       0.97      0.79      0.87        39\n",
            "           1       0.69      0.95      0.80        19\n",
            "\n",
            "    accuracy                           0.84        58\n",
            "   macro avg       0.83      0.87      0.84        58\n",
            "weighted avg       0.88      0.84      0.85        58\n",
            "\n"
          ]
        }
      ]
    },
    {
      "cell_type": "code",
      "source": [
        "from sklearn.metrics import confusion_matrix, ConfusionMatrixDisplay\n",
        "import matplotlib.pyplot as plt\n",
        "\n",
        "y_true = questions['true_result']\n",
        "y_pred = questions['result_num']\n",
        "\n",
        "cm = confusion_matrix(y_true, y_pred, labels=[0, 1])\n",
        "disp = ConfusionMatrixDisplay(confusion_matrix=cm, display_labels=[\"Faithful\", \"Hallucinated\"])\n",
        "disp.plot(cmap='Blues')\n",
        "plt.title(\"Confusion Matrix\")\n",
        "plt.show()"
      ],
      "metadata": {
        "colab": {
          "base_uri": "https://localhost:8080/",
          "height": 472
        },
        "id": "e7pzx7s802Kl",
        "outputId": "fa7be926-21b8-48c3-b418-fb120349d2e6"
      },
      "execution_count": null,
      "outputs": [
        {
          "output_type": "display_data",
          "data": {
            "text/plain": [
              "<Figure size 640x480 with 2 Axes>"
            ],
            "image/png": "[encoded data removed]"
          },
          "metadata": {}
        }
      ]
    },
    {
      "cell_type": "code",
      "source": [
        "report = classification_report(summary['true_result'], summary['result_num'])\n",
        "print(report)"
      ],
      "metadata": {
        "colab": {
          "base_uri": "https://localhost:8080/"
        },
        "id": "6u72fZ-sFI1-",
        "outputId": "069f9db3-c1a2-4f2a-c53b-a3423c5099e3"
      },
      "execution_count": null,
      "outputs": [
        {
          "output_type": "stream",
          "name": "stdout",
          "text": [
            "              precision    recall  f1-score   support\n",
            "\n",
            "           0       0.99      0.82      0.89       125\n",
            "           1       0.77      0.99      0.87        78\n",
            "\n",
            "    accuracy                           0.88       203\n",
            "   macro avg       0.88      0.90      0.88       203\n",
            "weighted avg       0.91      0.88      0.88       203\n",
            "\n"
          ]
        }
      ]
    },
    {
      "cell_type": "code",
      "source": [
        "from sklearn.metrics import confusion_matrix, ConfusionMatrixDisplay\n",
        "import matplotlib.pyplot as plt\n",
        "\n",
        "y_true = summary['true_result']\n",
        "y_pred = summary['result_num']\n",
        "\n",
        "cm = confusion_matrix(y_true, y_pred, labels=[0, 1])\n",
        "disp = ConfusionMatrixDisplay(confusion_matrix=cm, display_labels=[\"Faithful\", \"Hallucinated\"])\n",
        "disp.plot(cmap='Blues')\n",
        "plt.title(\"Confusion Matrix\")\n",
        "plt.show()\n"
      ],
      "metadata": {
        "colab": {
          "base_uri": "https://localhost:8080/",
          "height": 472
        },
        "id": "HlPaw0wmyyqj",
        "outputId": "43a46e05-0d1e-469b-99a5-565c38a016fc"
      },
      "execution_count": null,
      "outputs": [
        {
          "output_type": "display_data",
          "data": {
            "text/plain": [
              "<Figure size 640x480 with 2 Axes>"
            ],
            "image/png": "[encoded data removed]"
          },
          "metadata": {}
        }
      ]
    },
    {
      "cell_type": "code",
      "source": [
        "df_all = pd.concat([questions, summary], ignore_index=True)"
      ],
      "metadata": {
        "id": "AZDI__2L5MFA"
      },
      "execution_count": null,
      "outputs": []
    },
    {
      "cell_type": "code",
      "source": [
        "df_all.info()"
      ],
      "metadata": {
        "colab": {
          "base_uri": "https://localhost:8080/"
        },
        "id": "I74e7Xbe59Iw",
        "outputId": "4f2cde98-3c36-4003-b1bd-523b31c013bf"
      },
      "execution_count": null,
      "outputs": [
        {
          "output_type": "stream",
          "name": "stdout",
          "text": [
            "<class 'pandas.core.frame.DataFrame'>\n",
            "RangeIndex: 261 entries, 0 to 260\n",
            "Data columns (total 11 columns):\n",
            " #   Column           Non-Null Count  Dtype  \n",
            "---  ------           --------------  -----  \n",
            " 0   Unnamed: 0       58 non-null     float64\n",
            " 1   id               261 non-null    int64  \n",
            " 2   context          261 non-null    object \n",
            " 3   question         261 non-null    object \n",
            " 4   answer           261 non-null    object \n",
            " 5   is_hallucinated  261 non-null    object \n",
            " 6   result           261 non-null    object \n",
            " 7   session_id       261 non-null    object \n",
            " 8   created_at       261 non-null    object \n",
            " 9   result_num       261 non-null    int64  \n",
            " 10  true_result      261 non-null    int64  \n",
            "dtypes: float64(1), int64(3), object(7)\n",
            "memory usage: 22.6+ KB\n"
          ]
        }
      ]
    },
    {
      "cell_type": "code",
      "source": [
        "report = classification_report(df_all['true_result'], df_all['result_num'])\n",
        "print(report)"
      ],
      "metadata": {
        "colab": {
          "base_uri": "https://localhost:8080/"
        },
        "id": "dEBGSw6K53kR",
        "outputId": "4253cc93-e1dc-45ce-81d8-79d039430b0f"
      },
      "execution_count": null,
      "outputs": [
        {
          "output_type": "stream",
          "name": "stdout",
          "text": [
            "              precision    recall  f1-score   support\n",
            "\n",
            "           0       0.99      0.81      0.89       164\n",
            "           1       0.75      0.98      0.85        97\n",
            "\n",
            "    accuracy                           0.87       261\n",
            "   macro avg       0.87      0.90      0.87       261\n",
            "weighted avg       0.90      0.87      0.88       261\n",
            "\n"
          ]
        }
      ]
    },
    {
      "cell_type": "code",
      "source": [
        "from sklearn.metrics import confusion_matrix, ConfusionMatrixDisplay\n",
        "import matplotlib.pyplot as plt\n",
        "\n",
        "y_true = df_all['true_result']\n",
        "y_pred = df_all['result_num']\n",
        "\n",
        "cm = confusion_matrix(y_true, y_pred, labels=[0, 1])\n",
        "disp = ConfusionMatrixDisplay(confusion_matrix=cm, display_labels=[\"Faithful\", \"Hallucinated\"])\n",
        "disp.plot(cmap='Blues')\n",
        "plt.title(\"Confusion Matrix\")\n",
        "plt.show()"
      ],
      "metadata": {
        "colab": {
          "base_uri": "https://localhost:8080/",
          "height": 472
        },
        "id": "ei-TYwlV6CCY",
        "outputId": "cfb27ce2-4fd0-4c70-bf75-88cd9e78f580"
      },
      "execution_count": null,
      "outputs": [
        {
          "output_type": "display_data",
          "data": {
            "text/plain": [
              "<Figure size 640x480 with 2 Axes>"
            ],
            "image/png": "[encoded data removed]"
          },
          "metadata": {}
        }
      ]
    },
    {
      "cell_type": "code",
      "source": [
        "filtered_df = df_all[df_all['true_result'] == 1]\n",
        "value_counts_df = filtered_df['context'].value_counts().reset_index()\n",
        "\n",
        "value_counts_df.columns = ['text', 'count']\n",
        "\n",
        "value_counts_df['length'] = value_counts_df['text'].apply(lambda x: len(str(x)))\n",
        "\n",
        "print(value_counts_df)"
      ],
      "metadata": {
        "colab": {
          "base_uri": "https://localhost:8080/"
        },
        "id": "NVA7IIVnf3fh",
        "outputId": "6cf0f9b7-344d-427b-da08-632225360d07"
      },
      "execution_count": null,
      "outputs": [
        {
          "output_type": "stream",
          "name": "stdout",
          "text": [
            "                                                 text  count  length\n",
            "0   ВАСИЛИЙ КИРИЛЛОВ\\nВыпускник ТГУ, молодой худож...     11     191\n",
            "1   Гатауллина Диана / mojno.prosto.di \\n\\nТриптих...     10    2296\n",
            "2   Лада Ладная\\n«Чего не знаю»\\nИнсталляция, вода...      9    1533\n",
            "3   Кристина ШилинаСерия «Север»«Сияние», «Вышка»,...      8    2015\n",
            "4   Эльвира Хусаинова \\n«Там, только там»\\n\\nИнста...      7    1868\n",
            "5   САША МЕЛЬНИКОВА\\nМультисдисциплинарный художни...      6     611\n",
            "6   Саша Корсак и Nik Stencil\\n«Шкаф»\\nКерамика, ф...      6    1668\n",
            "7   Кристина Бабина\\n«Свет мой, зеркальце, скажи…»...      6    4549\n",
            "8   Кристина Шилина\\nСерия «Север»\\n«Звезда»\\nТкан...      4    1819\n",
            "9   АЛЕКСАНДР КУЗЬМИН\\nМультидисциплинарный художн...      4     266\n",
            "10  Александра Жернова\\n«Туменова София Ермаковна»...      3    2381\n",
            "11  Артём Долгих\\n«Минимальная монументальность ма...      3    3226\n",
            "12  «ДАЙТЕ СТЕНУ»\\nКоманда художников, стрит-артис...      3     397\n",
            "13  Жаслан Тасымов \\n«Фасадный слой»\\nТехника: пан...      3    1383\n",
            "14  «ДАЙТЕ СТЕНУ»\\nКоманда художников, стрит-артис...      2    3117\n",
            "15  Дарья Щелкун\\n«Быть» \\nФотография\\n2023\\n«Быть...      2    1154\n",
            "16  Юлия Эдуардовна  \\n«Наследили»\\n\\nИнсталляция ...      2    2227\n",
            "17  САВЕЛИЙ МЕЛЬЧАКОВ\\nМолодой начинающий модельер...      2     306\n",
            "18  Ворота: Ворота – это не просто архитектурный э...      2    1906\n",
            "19  Никита Плеханов\\n«Зеркало Истины»\\n\\nМедиа-арт...      1     916\n",
            "20  Диана Окаева\\n«Дома лучше. Карта значимых мест...      1    1313\n",
            "21  «ДАЙТЕ СТЕНУ»\\nКоманда художников, стрит-артис...      1     396\n",
            "22  Екатерина Чикерева\\nТриптих «Стена как носител...      1    1051\n"
          ]
        }
      ]
    },
    {
      "cell_type": "code",
      "source": [
        "df_all.to_csv(\"summary_questions_300.csv\")"
      ],
      "metadata": {
        "id": "vjAO9wjz2JHB"
      },
      "execution_count": null,
      "outputs": []
    }
  ]
}