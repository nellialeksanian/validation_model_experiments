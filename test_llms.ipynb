{
  "cells": [
    {
      "cell_type": "code",
      "execution_count": null,
      "metadata": {
        "id": "EBshumoKBgwm"
      },
      "outputs": [],
      "source": [
        "pip install cozepy"
      ]
    },
    {
      "cell_type": "code",
      "execution_count": null,
      "metadata": {
        "id": "MxE-9KYhoNh8"
      },
      "outputs": [],
      "source": [
        "import pandas as pd\n",
        "\n",
        "balanced_small_test = pd.read_csv(\"/content/balanced_small_test.csv\")\n",
        "balanced_df = pd.read_csv(\"/content/balanced_summary_dataset.csv\")"
      ]
    },
    {
      "cell_type": "markdown",
      "metadata": {
        "id": "G6Pe3zxZHNjW"
      },
      "source": [
        "## Prompts"
      ]
    },
    {
      "cell_type": "code",
      "execution_count": null,
      "metadata": {
        "id": "oRfECWSJHSx3"
      },
      "outputs": [],
      "source": [
        "eng_prompt = \"\"\"\n",
        "    A hallucination occurs if the ANSWER includes information not grounded in the CONTEXT or does not directly and accurately address the QUESTION.\n",
        "\n",
        "    Definition:\n",
        "    - The ANSWER is hallucinated if it contradicts the CONTEXT, adds unsupported claims, introduces fabricated, untrue details, or fails to correctly address the QUESTION.\n",
        "    - The ANSWER is faithful if it strictly adheres to the facts in the CONTEXT and:\n",
        "        1. Accurately responds to the QUESTION using the provided CONTEXT, OR\n",
        "        2. Clearly states that it cannot answer the QUESTION because the CONTEXT does not contain relevant information.\n",
        "\n",
        "    Instructions:\n",
        "    - Respond ONLY \"true\" if the ANSWER contains hallucinations.\n",
        "    - Respond ONLY \"false\" if the ANSWER is grounded, accurate, and appropriately addresses the QUESTION.\n",
        "\n",
        "    CONTEXT:\n",
        "\n",
        "    =====\n",
        "    {context}\n",
        "    =====\n",
        "\n",
        "    QUESTION:\n",
        "\n",
        "    =====\n",
        "    {query}\n",
        "    =====\n",
        "\n",
        "    ANSWER:\n",
        "\n",
        "    =====\n",
        "    {output}\n",
        "    =====\n",
        "\"\"\""
      ]
    },
    {
      "cell_type": "code",
      "execution_count": null,
      "metadata": {
        "id": "HBTg0va1vw7V"
      },
      "outputs": [],
      "source": [
        "eng_prompt_with_example = \"\"\"\n",
        "You are a fact-checking assistant. Your job is to identify whether the ANSWER contains any hallucinations based on the CONTEXT and QUESTION.\n",
        "\n",
        "Definition:\n",
        "- A hallucination occurs if the ANSWER:\n",
        "  - Includes claims or facts that are not in the CONTEXT.\n",
        "  - Contradicts information in the CONTEXT.\n",
        "  - Fails to directly and accurately answer the QUESTION.\n",
        "- An ANSWER is faithful if:\n",
        "  - It answers the QUESTION based only on the CONTEXT, OR\n",
        "  - It states that the CONTEXT does not contain enough information.\n",
        "\n",
        "Instructions:\n",
        "Respond only with:\n",
        "- \"true\" if the ANSWER contains any hallucination.\n",
        "- \"false\" if the ANSWER is completely grounded in the CONTEXT.\n",
        "\n",
        "Example 1:\n",
        "CONTEXT: Marie Curie won two Nobel Prizes.\n",
        "QUESTION: How many Nobel Prizes did Marie Curie win?\n",
        "ANSWER: Marie Curie won two Nobel Prizes.\n",
        "→ false\n",
        "\n",
        "Example 2:\n",
        "CONTEXT: Marie Curie won two Nobel Prizes.\n",
        "QUESTION: What kind of music did Marie Curie enjoy?\n",
        "ANSWER: Marie Curie enjoyed classical music.\n",
        "→ true\n",
        "\n",
        "Example 3:\n",
        "CONTEXT: The Great Fire of London started in a bakery on Pudding Lane in 1666. It destroyed much of the city, including 87 churches and thousands of homes. There were very few recorded deaths.\n",
        "QUESTION: Summarize the event in one or two sentences.\n",
        "ANSWER: The Great Fire of London in 1666 began in a bakery on Pudding Lane and caused widespread destruction, including the loss of many buildings and lives.\n",
        "→ true\n",
        "\n",
        "Example 4:\n",
        "CONTEXT: The Great Fire of London started in a bakery on Pudding Lane in 1666. It destroyed much of the city, including 87 churches and thousands of homes. There were very few recorded deaths.\n",
        "QUESTION: Summarize the event in one or two sentences.\n",
        "ANSWER: The Great Fire of London in 1666 began in a bakery on Pudding Lane and destroyed a large part of the city, including many homes and churches. Few deaths were recorded.\n",
        "→ false\n",
        "\n",
        "Now evaluate the following:\n",
        "\n",
        "CONTEXT:\n",
        "=====\n",
        "{context}\n",
        "=====\n",
        "\n",
        "QUESTION:\n",
        "=====\n",
        "{query}\n",
        "=====\n",
        "\n",
        "ANSWER:\n",
        "=====\n",
        "{output}\n",
        "=====\n",
        "\"\"\"\n"
      ]
    },
    {
      "cell_type": "code",
      "execution_count": null,
      "metadata": {
        "id": "anwMIswjHa_G"
      },
      "outputs": [],
      "source": [
        "rus_prompt = \"\"\"\n",
        "Галлюцинация возникает, если ОТВЕТ содержит информацию, не основанную на КОНТЕКСТЕ, или если он не напрямую и не точно отвечает на ВОПРОС.\n",
        "\n",
        "Определение:\n",
        "- ОТВЕТ считается галлюцинированным, если он противоречит КОНТЕКСТУ, добавляет неподтвержденные утверждения, включает вымышленные или ложные детали, или не отвечает правильно на ВОПРОС.\n",
        "- ОТВЕТ считается достоверным, если он строго придерживается фактов из КОНТЕКСТА и:\n",
        "  1. Точно отвечает на ВОПРОС, используя предоставленный КОНТЕКСТ, ИЛИ\n",
        "  2. Ясно указывает, что не может ответить на ВОПРОС, потому что в КОНТЕКСТЕ отсутствует соответствующая информация.\n",
        "\n",
        "Инструкции:\n",
        "- Ответьте ТОЛЬКО \"true\", если ОТВЕТ содержит галлюцинации.\n",
        "- Ответьте ТОЛЬКО \"false\", если ОТВЕТ основан на фактах, точен и правильно отвечает на ВОПРОС.\n",
        "\n",
        "КОНТЕКСТ:\n",
        "\n",
        "=====\n",
        "{context}\n",
        "=====\n",
        "\n",
        "ВОПРОС:\n",
        "\n",
        "=====\n",
        "{query}\n",
        "=====\n",
        "\n",
        "ОТВЕТ:\n",
        "\n",
        "=====\n",
        "{output}\n",
        "=====\n",
        "\"\"\""
      ]
    },
    {
      "cell_type": "code",
      "execution_count": null,
      "metadata": {
        "id": "3TEhUhE3vNYg"
      },
      "outputs": [],
      "source": [
        "summary_prompt = \"\"\"\n",
        "You are an expert fact-checker and summarization analyst. Your task is to determine whether the SUMMARY accurately reflects the information in the CONTEXT. You are precise, strict, and err on the side of caution when evaluating unsupported or implied information.\n",
        "\n",
        "A hallucination occurs if the SUMMARY includes information not grounded in the CONTEXT.\n",
        "\n",
        "Definition:\n",
        "- The SUMMARY is hallucinated if it:\n",
        "  - Contradicts the CONTEXT,\n",
        "  - Adds details or claims that are not supported by the CONTEXT,\n",
        "  - Infers or implies facts not clearly stated in the CONTEXT,\n",
        "  - Exaggerates or distorts facts from the CONTEXT.\n",
        "- The SUMMARY is faithful if it:\n",
        "  - Accurately reflects the facts from the CONTEXT,\n",
        "  - Avoids adding or inferring unsupported information.\n",
        "  - Stays true to the **spirit** and **details** of the CONTEXT, without changing the meaning, tone, or significance of the information.\n",
        "  - Does not include any new details, facts, or conclusions not directly supported by the CONTEXT.\n",
        "\n",
        "Instructions:\n",
        "- Respond ONLY with:\n",
        "  - \"hallucinated\" if the SUMMARY includes hallucinated information that is clearly unsupported, inaccurate, or contradictory based on the CONTEXT.\n",
        "  - \"faithful\" if the SUMMARY is grounded in and faithful to the CONTEXT, accurately reflecting the information without introducing new facts or distorting meaning.\n",
        "- Be careful but fair: Only mark “faithful” when hallucinations are clearly present. If there is no added or inaccurate information, mark “hallucinated”.\n",
        "- Be strict. If in doubt, choose \"hallucinated\".\n",
        "\n",
        "Examples:\n",
        "\n",
        "Example 1:\n",
        "CONTEXT:\n",
        "The mayor announced a new initiative to plant 10,000 trees over the next five years to combat rising temperatures and improve air quality in urban neighborhoods. The project will start in the city center and expand to outer districts.\n",
        "\n",
        "QUERY:\n",
        "Summarize the context\n",
        "\n",
        "SUMMARY:\n",
        "The mayor introduced a five-year plan to plant 10,000 trees to fight climate change and improve air quality in the city.\n",
        "\n",
        "Result: → false\n",
        "Reason:\n",
        "All facts in the summary are directly grounded in the context. No information is added or exaggerated.\n",
        "\n",
        "Example 2:\n",
        "CONTEXT:\n",
        "The new health guidelines recommend at least 150 minutes of moderate physical activity per week for adults. They also emphasize muscle-strengthening activities on two or more days per week. No specific diet plans are included in the guidelines.\n",
        "\n",
        "QUERY:\n",
        "Summarize the context\n",
        "\n",
        "SUMMARY:\n",
        "The health guidelines advise both regular exercise and a plant-based diet for optimal health.\n",
        "\n",
        "Result: → true\n",
        "Reason:\n",
        "The summary adds a recommendation for a plant-based diet, which is not supported by the context.\n",
        "\n",
        "Example 2:\n",
        "CONTEXT:\n",
        "The Department of Transportation has launched a new bike lane expansion project aimed at reducing traffic congestion in the downtown area. Over the next two years, more than 25 miles of new bike lanes will be added. The project will begin in neighborhoods with existing cycling infrastructure to ensure seamless connectivity and will later extend to underserved areas. Officials emphasized the plan is about improving urban mobility, not just encouraging cycling.\n",
        "\n",
        "SUMMARY:\n",
        "The Department of Transportation is encouraging cycling by launching a project to build 25 miles of bike lanes, starting in underserved areas.\n",
        "\n",
        "Result: → true\n",
        "Reason:\n",
        "This inverts the rollout plan (it starts in areas with infrastructure, not underserved ones) and frames the project as promoting cycling, which contradicts the department’s stated emphasis on urban mobility.\n",
        "\n",
        "\n",
        "\n",
        "Now evaluate the following:\n",
        "\n",
        "CONTEXT:\n",
        "=====\n",
        "{context}\n",
        "=====\n",
        "\n",
        "QUERY:\n",
        "=====\n",
        "Summarize the context\n",
        "=====\n",
        "\n",
        "SUMMARY:\n",
        "=====\n",
        "{description}\n",
        "=====\n",
        "\"\"\"\n"
      ]
    },
    {
      "cell_type": "code",
      "execution_count": null,
      "metadata": {
        "id": "RhSq95AnOTTc"
      },
      "outputs": [],
      "source": [
        "summary_prompt_rus = \"\"\"\n",
        "Ты — эксперт по проверке фактов и анализу кратких изложений. Твоя задача — определить, насколько РЕЗЮМЕ точно отражает информацию из КОНТЕКСТА. Ты действуешь точно, строго и с осторожностью, особенно при оценке неподтверждённых или подразумеваемых данных.\n",
        "\n",
        "Галлюцинацией считается любое добавление в РЕЗЮМЕ информации, которая не подтверждена КОНТЕКСТОМ.\n",
        "\n",
        "Определения:\n",
        "- РЕЗЮМЕ содержит галлюцинацию, если:\n",
        "  - Противоречит КОНТЕКСТУ,\n",
        "  - Добавляет детали или утверждения, не подтверждённые КОНТЕКСТОМ,\n",
        "  - Делает выводы или подразумевает факты, явно не указанные в КОНТЕКСТЕ,\n",
        "  - Преувеличивает или искажает факты из КОНТЕКСТА.\n",
        "- РЕЗЮМЕ является достоверным, если:\n",
        "  - Точно отражает факты из КОНТЕКСТА,\n",
        "  - Не добавляет и не подразумевает неподтверждённую информацию,\n",
        "  - Сохраняет **смысл** и **детали** КОНТЕКСТА, не меняя значения, тона или значимости информации,\n",
        "  - Не содержит новых фактов, выводов или деталей, не основанных на КОНТЕКСТЕ.\n",
        "\n",
        "Инструкция:\n",
        "- Отвечай ТОЛЬКО:\n",
        "  - \"галлюцинация\", если РЕЗЮМЕ содержит информацию, которая явно неподтверждённая, неточная или противоречит КОНТЕКСТУ,\n",
        "  - \"достоверно\", если РЕЗЮМЕ основано на КОНТЕКСТЕ и точно его отражает, не добавляя новых фактов и не искажая смысл.\n",
        "- Будь осторожен, но справедлив: выбирайте “достоверно” только если **нет** добавленной или неточной информации.\n",
        "- Будь строгим. В случае сомнений — выбирай \"галлюцинация\".\n",
        "\n",
        "Примеры:\n",
        "\n",
        "Пример 1:\n",
        "КОНТЕКСТ:\n",
        "Мэр объявил о новой инициативе: посадить 10 000 деревьев в течение следующих пяти лет, чтобы бороться с ростом температуры и улучшить качество воздуха в городских районах. Проект начнётся в центре города и расширится на окраины.\n",
        "\n",
        "ЗАПРОС:\n",
        "Сформулируйте краткое изложение контекста\n",
        "\n",
        "РЕЗЮМЕ:\n",
        "Мэр представил пятилетний план по посадке 10 000 деревьев для борьбы с изменением климата и улучшения качества воздуха в городе.\n",
        "\n",
        "Результат: → достоверно\n",
        "Причина:\n",
        "Все факты в резюме соответствуют контексту. Нет добавлений или преувеличений.\n",
        "\n",
        "Пример 2:\n",
        "КОНТЕКСТ:\n",
        "Новые рекомендации по здоровью советуют взрослым не менее 150 минут умеренной физической активности в неделю. Также подчёркивается необходимость силовых упражнений не менее двух раз в неделю. Конкретные диетические рекомендации отсутствуют.\n",
        "\n",
        "РЕЗЮМЕ:\n",
        "Рекомендации по здоровью включают регулярные упражнения и растительную диету для достижения оптимального здоровья.\n",
        "\n",
        "Результат: → галлюцинация\n",
        "Причина:\n",
        "Резюме добавляет совет о растительной диете, чего нет в контексте.\n",
        "\n",
        "Пример 3:\n",
        "КОНТЕКСТ:\n",
        "Министерство транспорта запустило новый проект по расширению велосипедной инфраструктуры, направленный на снижение дорожных заторов в центре города. В течение двух лет будет добавлено более 25 миль велодорожек. Проект начнётся в районах, где уже есть велоинфраструктура, чтобы обеспечить бесшовную интеграцию, и позже распространится на менее обеспеченные районы. Представители подчеркнули, что цель — улучшение городской мобильности, а не просто популяризация велоспорта.\n",
        "\n",
        "РЕЗЮМЕ:\n",
        "Министерство транспорта продвигает велоспорт, запустив проект строительства 25 миль велодорожек, начиная с бедных районов.\n",
        "\n",
        "Результат: → галлюцинация\n",
        "Причина:\n",
        "Резюме искажает порядок реализации (проект стартует не в бедных районах) и неверно передаёт цель проекта (городская мобильность, а не продвижение велоспорта).\n",
        "\n",
        "Теперь оцените следующее:\n",
        "\n",
        "КОНТЕКСТ:\n",
        "=====\n",
        "{context}\n",
        "=====\n",
        "\n",
        "ЗАПРОС:\n",
        "=====\n",
        "Сформулируйте краткое изложение контекста\n",
        "=====\n",
        "\n",
        "РЕЗЮМЕ:\n",
        "=====\n",
        "{description}\n",
        "=====\n",
        "\"\"\"\n"
      ]
    },
    {
      "cell_type": "code",
      "execution_count": null,
      "metadata": {
        "id": "Iu8UUoOxRve6"
      },
      "outputs": [],
      "source": [
        "summary_prompt_cot = \"\"\"\n",
        "You are an expert fact-checker and summarization analyst. Your task is to determine whether the SUMMARY accurately reflects the information in the CONTEXT. You are precise, strict, and err on the side of caution when evaluating unsupported or implied information.\n",
        "\n",
        "A hallucination occurs if the SUMMARY includes information not grounded in the CONTEXT.\n",
        "\n",
        "Definition:\n",
        "- The SUMMARY is hallucinated if it:\n",
        "  - Contradicts the CONTEXT,\n",
        "  - Adds details or claims that are not supported by the CONTEXT,\n",
        "  - Infers or implies facts not clearly stated in the CONTEXT,\n",
        "  - Exaggerates or distorts facts from the CONTEXT.\n",
        "- The SUMMARY is faithful if it:\n",
        "  - Accurately reflects the facts from the CONTEXT,\n",
        "  - Avoids adding or inferring unsupported information,\n",
        "  - Stays true to the **spirit** and **details** of the CONTEXT, without changing the meaning, tone, or significance of the information,\n",
        "  - Does not include any new details, facts, or conclusions not directly supported by the CONTEXT.\n",
        "\n",
        "### Instructions:\n",
        "1. **Perform a step-by-step chain of reasoning**:\n",
        "   - Break down the SUMMARY into **individual claims** or **statements**.\n",
        "   - For each claim:\n",
        "     a) Check if it is **explicitly stated** in the CONTEXT.\n",
        "     b) Check if it is **logically inferred** from the CONTEXT (i.e., does the context support a reasonable inference?).\n",
        "     c) Look for **unsupported, exaggerated, or contradictory** information.\n",
        "     d) Assess whether the **tone** or **overall meaning** has been distorted.\n",
        "   - Identify all **hallucinations** clearly, including any **generalizations**, **extrapolations**, or **new facts** that are not supported.\n",
        "\n",
        "2. **Final Judgment**:\n",
        "   - Respond ONLY with:\n",
        "     - **\"hallucinated\"** if any part of the SUMMARY includes hallucinated, distorted, or unsupported information.\n",
        "     - **\"faithful\"** if every part of the SUMMARY is fully supported by the CONTEXT and accurate in tone and detail.\n",
        "\n",
        "### Key Guidance:\n",
        "- Be **overly cautious** about inferred or implied details; **hallucinations** often arise from overstating conclusions or generalizing.\n",
        "- **Consider the spirit and tone** of the context, not just factual accuracy.\n",
        "- IMPORTANT: **DO NOT** include your reasoning in the final answer. Respond only with \"hallucinated\" or \"faithful\".\n",
        "\n",
        "Be careful but fair. If in doubt, choose \"hallucinated\". Prioritize accuracy and fidelity to the source.\n",
        "\n",
        "### Examples:\n",
        "\n",
        "Example 1:\n",
        "CONTEXT:\n",
        "The mayor announced a new initiative to plant 10,000 trees over the next five years to combat rising temperatures and improve air quality in urban neighborhoods. The project will start in the city center and expand to outer districts.\n",
        "\n",
        "SUMMARY:\n",
        "The mayor introduced a five-year plan to plant 10,000 trees to fight climate change and improve air quality in the city.\n",
        "\n",
        "Result: → faithful\n",
        "Reasoning:\n",
        "- 5-year plan → stated.\n",
        "- 10,000 trees → stated.\n",
        "- Improve air quality → stated.\n",
        "- \"Fight climate change\" → generalizes \"combat rising temperatures\", but remains consistent and not misleading.\n",
        "\n",
        "Example 2:\n",
        "CONTEXT:\n",
        "The new health guidelines recommend at least 150 minutes of moderate physical activity per week for adults. They also emphasize muscle-strengthening activities on two or more days per week. No specific diet plans are included in the guidelines.\n",
        "\n",
        "SUMMARY:\n",
        "The health guidelines advise both regular exercise and a plant-based diet for optimal health.\n",
        "\n",
        "Result: → hallucinated\n",
        "Reasoning:\n",
        "- Exercise → supported.\n",
        "- Plant-based diet → not in context → hallucinated.\n",
        "\n",
        "Example 3:\n",
        "CONTEXT:\n",
        "The Department of Transportation has launched a new bike lane expansion project aimed at reducing traffic congestion in the downtown area. Over the next two years, more than 25 miles of new bike lanes will be added. The project will begin in neighborhoods with existing cycling infrastructure to ensure seamless connectivity and will later extend to underserved areas. Officials emphasized the plan is about improving urban mobility, not just encouraging cycling.\n",
        "\n",
        "SUMMARY:\n",
        "The Department of Transportation is encouraging cycling by launching a project to build 25 miles of bike lanes, starting in underserved areas.\n",
        "\n",
        "Result: → hallucinated\n",
        "Reasoning:\n",
        "- \"Encouraging cycling\" as the main purpose contradicts stated goal → distorted.\n",
        "- \"Starting in underserved areas\" contradicts rollout plan → incorrect.\n",
        "\n",
        "Now evaluate the following:\n",
        "\n",
        "CONTEXT:\n",
        "=====\n",
        "{context}\n",
        "=====\n",
        "\n",
        "QUERY:\n",
        "=====\n",
        "Summarize the context\n",
        "=====\n",
        "\n",
        "SUMMARY:\n",
        "=====\n",
        "{description}\n",
        "=====\n",
        "\"\"\"\n"
      ]
    },
    {
      "cell_type": "code",
      "execution_count": null,
      "metadata": {
        "id": "4CiCi8U8WhBo"
      },
      "outputs": [],
      "source": [
        "prompt_summary_cot_2 = \"\"\"\n",
        "You are an expert fact-checker and summarization analyst. Your task is to determine whether the SUMMARY accurately reflects the information in the CONTEXT. Most summaries contain some form of hallucination, even subtle ones. Your job is to **identify even the smallest unsupported, exaggerated, or inferred detail** and err on the side of calling the summary hallucinated unless it is **entirely and unquestionably faithful** to the source.\n",
        "A **hallucination** occurs when the SUMMARY:\n",
        "- **Contradicts** the CONTEXT or presents information that is not part of the CONTEXT.\n",
        "- **Adds details or claims** that are **not supported** by the CONTEXT, including those that could be inferred but are not explicitly stated.\n",
        "- **Adds specific details not explicitly present in the CONTEXT**, such as (but not limited to) exact dates, specific times, names of individuals not mentioned, precise locations beyond general references, ages not provided, or any other quantifiable or identifiable information that is not directly stated.\n",
        "- **Infers or implies** facts that go beyond what is clearly stated in the CONTEXT.\n",
        "- **Exaggerates, distorts**, or otherwise **alters the meaning, tone, or significance** of the CONTEXT.\n",
        "\n",
        "The **SUMMARY is faithful** if:\n",
        "- It **accurately reflects the facts, tone, and spirit** of the CONTEXT, without overstating, generalizing, or inferring unsupported details.\n",
        "- It does **not include** new conclusions or facts not directly grounded in the CONTEXT.\n",
        "- It stays true to the **intended meaning** and **significance** of the CONTEXT, without altering or overstating any part of the original message.\n",
        "\n",
        "### Instructions:\n",
        "**Perform a step-by-step chain of reasoning**:\n",
        "  1. Break down the SUMMARY into **individual claims** or **statements**.\n",
        "  2. For each claim, assess whether it:\n",
        "      a)Is it stated in the CONTEXT? If not, flag it.\n",
        "      b) Is this claim **directly and explicitly stated** in the CONTEXT, including all specific details? If a specific detail (like a date, time, or name) is present in the summary but not the context, flag it.\n",
        "      c)Does this claim introduce any **specific information** (e.g., a date, a precise number, a name) that is not explicitly found in the CONTEXT? If so, flag it.\n",
        "      d)Does this claim introduce any **new information, even seemingly minor details** not present in the CONTEXT? If so, flag it.\n",
        "      e)Does this claim make any **inference or implication** that goes beyond the explicit statements in the CONTEXT? If so, flag it.\n",
        "      f)Does it exaggerate or change tone? If so, flag it.\n",
        "      g)Does it generalize or imply more than the CONTEXT says? If yes, flag it.\n",
        "      h)Does it contain **unsupported**, **exaggerated**, or **contradictory** information? If yes, flag it.\n",
        "      i)Does it distorts the **tone, meaning, or significance** of the CONTEXT (e.g., makes the message sound more extreme, general, or conclusive than the original)? If yes, flag it.\n",
        "      j)Does this claim state something the CONTEXT **explicitly negates** or **does not mention at all** (without the summary explicitly stating the absence)? If so, flag it.\n",
        "  3. If **any** part of the summary is even slightly unsupported, mark the entire SUMMARY as:\n",
        "      - **hallucinated**\n",
        "     Otherwise, if it is **fully supported and perfectly aligned**, mark:\n",
        "       - **faithful*\n",
        "    Note: Default to **hallucinated** unless fully certain.\n",
        "**Important:** Always **err on the side of caution**. If in doubt, label it as **hallucinated**. Prioritize **accuracy** and **fidelity** to the source. If any detail could be misinterpreted as an inference, exaggeration, or distortion, label it as **hallucinated**.\n",
        "\n",
        "### Key Guidance:\n",
        "- **Avoid overgeneralizing** or inferring conclusions that are not explicit in the CONTEXT.\n",
        "- Focus on both **factual accuracy** and the **spirit** of the CONTEXT, ensuring that the meaning and tone are preserved.\n",
        "- Do **not** include reasoning in your final answer. Respond only with one of the two labels: \"hallucinated\" or \"faithful\".\n",
        "\n",
        "### Examples:\n",
        "\n",
        "Example 1:\n",
        "CONTEXT:\n",
        "The mayor announced a new initiative to plant 10,000 trees over the next five years to combat rising temperatures and improve air quality in urban neighborhoods. The project will start in the city center and expand to outer districts.\n",
        "\n",
        "SUMMARY:\n",
        "The mayor introduced a five-year plan to plant 10,000 trees to fight climate change and improve air quality in the city.\n",
        "\n",
        "Result: → faithful\n",
        "Reasoning:\n",
        "- 5-year plan → stated.\n",
        "- 10,000 trees → stated.\n",
        "- Improve air quality → stated.\n",
        "- \"Fight climate change\" → generalizes \"combat rising temperatures\", but remains consistent and not misleading.\n",
        "\n",
        "Example 2:\n",
        "CONTEXT:\n",
        "The new health guidelines recommend at least 150 minutes of moderate physical activity per week for adults. They also emphasize muscle-strengthening activities on two or more days per week. No specific diet plans are included in the guidelines.\n",
        "\n",
        "SUMMARY:\n",
        "The health guidelines advise both regular exercise and a plant-based diet for optimal health.\n",
        "\n",
        "Result: → hallucinated\n",
        "Reasoning:\n",
        "- Exercise → supported.\n",
        "- Plant-based diet → not in context → hallucinated.\n",
        "\n",
        "Example 3:\n",
        "CONTEXT:\n",
        "The Department of Transportation has launched a new bike lane expansion project aimed at reducing traffic congestion in the downtown area. Over the next two years, more than 25 miles of new bike lanes will be added. The project will begin in neighborhoods with existing cycling infrastructure to ensure seamless connectivity and will later extend to underserved areas. Officials emphasized the plan is about improving urban mobility, not just encouraging cycling.\n",
        "\n",
        "SUMMARY:\n",
        "The Department of Transportation is encouraging cycling by launching a project to build 25 miles of bike lanes, starting in underserved areas.\n",
        "\n",
        "Result: → hallucinated\n",
        "Reasoning:\n",
        "- \"Encouraging cycling\" as the main purpose contradicts stated goal → distorted.\n",
        "- \"Starting in underserved areas\" contradicts rollout plan → incorrect.\n",
        "\n",
        "NOTE: Be skeptical. It's better to flag a minor hallucination than to let one pass.\n",
        "You will be evaluated based on your ability to catch even minor hallucinations. False negatives (missing a hallucination) are considered worse than false positives.\n",
        "\n",
        "Now evaluate the following:\n",
        "\n",
        "CONTEXT:\n",
        "=====\n",
        "{context}\n",
        "=====\n",
        "\n",
        "QUERY:\n",
        "=====\n",
        "Summarize the context\n",
        "=====\n",
        "\n",
        "SUMMARY:\n",
        "=====\n",
        "{description}\n",
        "=====\n",
        "\n",
        "\"\"\""
      ]
    },
    {
      "cell_type": "markdown",
      "metadata": {
        "id": "A8HA0-l4DKRa"
      },
      "source": [
        "## Gigachat\n"
      ]
    },
    {
      "cell_type": "code",
      "execution_count": null,
      "metadata": {
        "id": "MGHFJy8qi4c7"
      },
      "outputs": [],
      "source": [
        "pip install langchain_gigachat"
      ]
    },
    {
      "cell_type": "code",
      "execution_count": null,
      "metadata": {
        "id": "zHNyN_u1R2kx"
      },
      "outputs": [],
      "source": [
        "def evaluate_hallucinations(context, query, output, llm_chain):\n",
        "    result = llm_chain.invoke({\n",
        "        \"context\": context,\n",
        "        \"query\": query,\n",
        "        \"output\": output\n",
        "    })\n",
        "\n",
        "    if hasattr(result, 'content'):\n",
        "        return result.content\n",
        "    else:\n",
        "        return str(result)\n"
      ]
    },
    {
      "cell_type": "code",
      "execution_count": null,
      "metadata": {
        "id": "MXtS6RyjbJtN"
      },
      "outputs": [],
      "source": [
        "def evaluate_hallucinations_summary(context, output, llm_chain):\n",
        "    result = llm_chain.invoke({\n",
        "        \"context\": context,\n",
        "        \"description\": output\n",
        "    })\n",
        "\n",
        "    if hasattr(result, 'content'):\n",
        "        return result.content\n",
        "    else:\n",
        "        return str(result)"
      ]
    },
    {
      "cell_type": "code",
      "execution_count": null,
      "metadata": {
        "id": "xa2XyQyOGvDe"
      },
      "outputs": [],
      "source": [
        "import pandas as pd\n",
        "from tqdm import tqdm\n",
        "\n",
        "def run_hallucination_evaluation(df: pd.DataFrame, evaluate_hallucinations, llm_chain, output_path: str) -> pd.DataFrame:\n",
        "\n",
        "    results = []\n",
        "\n",
        "    for _, row in tqdm(df.iterrows(), total=len(df), desc=\"Evaluating\"):\n",
        "        context = row[\"context\"]\n",
        "        question = row[\"query\"]\n",
        "        answer = row[\"output\"]\n",
        "        label = row[\"binary_label\"]\n",
        "\n",
        "        prediction = evaluate_hallucinations(context, question, answer, llm_chain).strip().lower()\n",
        "\n",
        "        results.append({\n",
        "            \"context\": context,\n",
        "            \"query\": question,\n",
        "            \"output\": answer,\n",
        "            \"label\": label,\n",
        "            \"prediction\": prediction\n",
        "        })\n",
        "\n",
        "    results_df = pd.DataFrame(results)\n",
        "    results_df.to_csv(output_path, index=False)\n",
        "\n",
        "    print(f\"Evaluation complete. Results saved to {output_path}\")\n",
        "    return results_df"
      ]
    },
    {
      "cell_type": "code",
      "execution_count": null,
      "metadata": {
        "id": "XfFpmiCDbSK7"
      },
      "outputs": [],
      "source": [
        "import pandas as pd\n",
        "from tqdm import tqdm\n",
        "\n",
        "def run_hallucination_evaluation_summary(df: pd.DataFrame, evaluate_hallucinations, llm_chain, output_path: str) -> pd.DataFrame:\n",
        "\n",
        "    results = []\n",
        "\n",
        "    for _, row in tqdm(df.iterrows(), total=len(df), desc=\"Evaluating\"):\n",
        "        context = row[\"context\"]\n",
        "        answer = row[\"output\"]\n",
        "        label = row[\"binary_label\"]\n",
        "\n",
        "        prediction = evaluate_hallucinations_summary(context, answer, llm_chain).strip().lower()\n",
        "\n",
        "        results.append({\n",
        "            \"context\": context,\n",
        "            \"output\": answer,\n",
        "            \"label\": label,\n",
        "            \"prediction\": prediction\n",
        "        })\n",
        "\n",
        "    results_df = pd.DataFrame(results)\n",
        "    results_df.to_csv(output_path, index=False)\n",
        "\n",
        "    print(f\"Evaluation complete. Results saved to {output_path}\")\n",
        "    return results_df"
      ]
    },
    {
      "cell_type": "code",
      "execution_count": null,
      "metadata": {
        "id": "Crh_-RmcJN3k"
      },
      "outputs": [],
      "source": [
        "from sklearn.metrics import classification_report, confusion_matrix, accuracy_score\n",
        "import pandas as pd\n",
        "\n",
        "\n",
        "def evaluate_classification_metrics(df, true_col=\"label\", pred_col=\"prediction_num\"):\n",
        "\n",
        "    clean_df = df[df[pred_col].isin([0, 1])]\n",
        "    y_true = clean_df[true_col]\n",
        "    y_pred = clean_df[pred_col]\n",
        "\n",
        "    print(\"\\nClassification Report:\")\n",
        "    print(classification_report(y_true, y_pred, labels=[0, 1], target_names=[\"0\", \"1\"]))\n",
        "\n",
        "    print(\"\\nConfusion Matrix:\")\n",
        "    print(confusion_matrix(y_true, y_pred, labels=[0, 1]))\n",
        "\n",
        "    print(\"\\nAccuracy Score:\", accuracy_score(y_true, y_pred))\n",
        "\n"
      ]
    },
    {
      "cell_type": "markdown",
      "metadata": {
        "id": "wTvAz6RHF0-_"
      },
      "source": [
        "### Gigachat-Lite"
      ]
    },
    {
      "cell_type": "code",
      "execution_count": null,
      "metadata": {
        "id": "IJM0wdjBYLHG"
      },
      "outputs": [],
      "source": [
        "from langchain_gigachat.chat_models import GigaChat\n",
        "from langchain.prompts import PromptTemplate\n",
        "\n",
        "gigachat_token_new = \"token\"\n",
        "\n",
        "giga = GigaChat (\n",
        "    credentials=gigachat_token_new,\n",
        "    model=\"GigaChat\",\n",
        "    verify_ssl_certs=False\n",
        ")\n",
        "\n",
        "prompt_eng = PromptTemplate(\n",
        "    input_variables=[\"context\", \"query\", \"output\"],\n",
        "    template=eng_prompt\n",
        ")\n",
        "\n",
        "prompt_rus = PromptTemplate(\n",
        "    input_variables=[\"context\", \"query\", \"output\"],\n",
        "    template=rus_prompt\n",
        ")\n",
        "prompt_example = PromptTemplate(\n",
        "    input_variables=[\"context\", \"query\", \"output\"],\n",
        "    template=eng_prompt_with_example\n",
        ")\n",
        "\n",
        "llm_chain_eng = prompt_eng | giga\n",
        "llm_chain_rus = prompt_rus | giga\n",
        "llm_chain_example = prompt_example | giga"
      ]
    },
    {
      "cell_type": "code",
      "execution_count": null,
      "metadata": {
        "colab": {
          "base_uri": "https://localhost:8080/"
        },
        "id": "pSvUuAt4Ykmr",
        "outputId": "ecdcd297-cfa6-4e58-c6b8-5099d7474040"
      },
      "outputs": [
        {
          "name": "stderr",
          "output_type": "stream",
          "text": [
            "Evaluating: 100%|██████████| 200/200 [00:52<00:00,  3.77it/s]"
          ]
        },
        {
          "name": "stdout",
          "output_type": "stream",
          "text": [
            "Evaluation complete. Results saved to giga_lite_hallucination_eval_eng.csv\n"
          ]
        },
        {
          "name": "stderr",
          "output_type": "stream",
          "text": [
            "\n"
          ]
        }
      ],
      "source": [
        "results_lite_df_eng = run_hallucination_evaluation(\n",
        "    df=balanced_small_test,\n",
        "    evaluate_hallucinations=evaluate_hallucinations,\n",
        "    llm_chain = llm_chain_eng,\n",
        "    output_path=\"giga_lite_hallucination_eval_eng.csv\"\n",
        ")"
      ]
    },
    {
      "cell_type": "code",
      "execution_count": null,
      "metadata": {
        "colab": {
          "base_uri": "https://localhost:8080/"
        },
        "id": "DwkyHjZVacM2",
        "outputId": "48d61c5d-499a-4965-cb0c-eaced5d614b4"
      },
      "outputs": [
        {
          "name": "stderr",
          "output_type": "stream",
          "text": [
            "Evaluating: 100%|██████████| 200/200 [00:53<00:00,  3.71it/s]"
          ]
        },
        {
          "name": "stdout",
          "output_type": "stream",
          "text": [
            "Evaluation complete. Results saved to giga_lite_hallucination_eval_rus.csv\n"
          ]
        },
        {
          "name": "stderr",
          "output_type": "stream",
          "text": [
            "\n"
          ]
        }
      ],
      "source": [
        "results_lite_df_rus = run_hallucination_evaluation(\n",
        "    df=balanced_small_test,\n",
        "    evaluate_hallucinations=evaluate_hallucinations,\n",
        "    llm_chain = llm_chain_rus,\n",
        "    output_path=\"giga_lite_hallucination_eval_rus.csv\"\n",
        ")"
      ]
    },
    {
      "cell_type": "code",
      "execution_count": null,
      "metadata": {
        "colab": {
          "base_uri": "https://localhost:8080/"
        },
        "id": "Ftp_-l0AzsiL",
        "outputId": "c67e6da1-e978-459c-cd12-d4af02bbe6ad"
      },
      "outputs": [
        {
          "name": "stderr",
          "output_type": "stream",
          "text": [
            "Evaluating: 100%|██████████| 200/200 [00:54<00:00,  3.65it/s]"
          ]
        },
        {
          "name": "stdout",
          "output_type": "stream",
          "text": [
            "Evaluation complete. Results saved to giga_lite_hallucination_eval_example.csv\n"
          ]
        },
        {
          "name": "stderr",
          "output_type": "stream",
          "text": [
            "\n"
          ]
        }
      ],
      "source": [
        "results_lite_df_example = run_hallucination_evaluation(\n",
        "    df=balanced_small_test,\n",
        "    evaluate_hallucinations=evaluate_hallucinations,\n",
        "    llm_chain = llm_chain_example,\n",
        "    output_path=\"giga_lite_hallucination_eval_example.csv\"\n",
        ")"
      ]
    },
    {
      "cell_type": "code",
      "execution_count": null,
      "metadata": {
        "id": "JKMIeU7GY-HQ"
      },
      "outputs": [],
      "source": [
        "results_lite_df_eng['prediction_num'] = results_lite_df_eng['prediction'].map({\"true\": 1, \"false\": 0})\n",
        "results_lite_df_eng['prediction_num'] = results_lite_df_eng['prediction_num'].astype(int)"
      ]
    },
    {
      "cell_type": "code",
      "execution_count": null,
      "metadata": {
        "id": "RCMmWDO0ahq6"
      },
      "outputs": [],
      "source": [
        "results_lite_df_rus['prediction_num'] = results_lite_df_rus['prediction'].map({\"true\": 1, \"false\": 0})"
      ]
    },
    {
      "cell_type": "code",
      "execution_count": null,
      "metadata": {
        "id": "Fl2861L1XcKW"
      },
      "outputs": [],
      "source": [
        "results_lite_df_rus['prediction_num'] = results_lite_df_rus['prediction_num'].astype(int)"
      ]
    },
    {
      "cell_type": "code",
      "execution_count": null,
      "metadata": {
        "id": "3zFRMJyLz5Nq"
      },
      "outputs": [],
      "source": [
        "results_lite_df_example['prediction_num'] = results_lite_df_example['prediction'].map({\"true\": 1, \"false\": 0})"
      ]
    },
    {
      "cell_type": "code",
      "execution_count": null,
      "metadata": {
        "id": "X9vwT6pS1_HX"
      },
      "outputs": [],
      "source": [
        "results_lite_df_example['prediction_num'] = results_lite_df_example['prediction_num'].astype(int)"
      ]
    },
    {
      "cell_type": "code",
      "execution_count": null,
      "metadata": {
        "colab": {
          "base_uri": "https://localhost:8080/"
        },
        "id": "OZMjY_GtZQvn",
        "outputId": "ce88ab22-e976-4ab4-8253-ee01090ff6ec"
      },
      "outputs": [
        {
          "name": "stdout",
          "output_type": "stream",
          "text": [
            "\n",
            "Classification Report:\n",
            "              precision    recall  f1-score   support\n",
            "\n",
            "           0       0.45      0.49      0.47       100\n",
            "           1       0.44      0.40      0.42       100\n",
            "\n",
            "    accuracy                           0.45       200\n",
            "   macro avg       0.44      0.45      0.44       200\n",
            "weighted avg       0.44      0.45      0.44       200\n",
            "\n",
            "\n",
            "Confusion Matrix:\n",
            "[[49 51]\n",
            " [60 40]]\n",
            "\n",
            "Accuracy Score: 0.445\n"
          ]
        }
      ],
      "source": [
        "evaluate_classification_metrics(results_lite_df_eng)"
      ]
    },
    {
      "cell_type": "code",
      "execution_count": null,
      "metadata": {
        "colab": {
          "base_uri": "https://localhost:8080/"
        },
        "id": "98FvnbJxavTh",
        "outputId": "90cd4d17-dff2-440b-f8d8-cde92f075c01"
      },
      "outputs": [
        {
          "name": "stdout",
          "output_type": "stream",
          "text": [
            "\n",
            "Classification Report:\n",
            "              precision    recall  f1-score   support\n",
            "\n",
            "           0       0.42      0.43      0.42       100\n",
            "           1       0.41      0.40      0.41       100\n",
            "\n",
            "    accuracy                           0.41       200\n",
            "   macro avg       0.41      0.42      0.41       200\n",
            "weighted avg       0.41      0.41      0.41       200\n",
            "\n",
            "\n",
            "Confusion Matrix:\n",
            "[[43 57]\n",
            " [60 40]]\n",
            "\n",
            "Accuracy Score: 0.415\n"
          ]
        }
      ],
      "source": [
        "evaluate_classification_metrics(results_lite_df_rus)"
      ]
    },
    {
      "cell_type": "code",
      "execution_count": null,
      "metadata": {
        "colab": {
          "base_uri": "https://localhost:8080/"
        },
        "id": "3KbnbfBg0NhD",
        "outputId": "1918e85a-f478-4c04-b825-076fa5f001ca"
      },
      "outputs": [
        {
          "name": "stdout",
          "output_type": "stream",
          "text": [
            "\n",
            "Classification Report:\n",
            "              precision    recall  f1-score   support\n",
            "\n",
            "           0       0.48      0.28      0.35       100\n",
            "           1       0.49      0.70      0.58       100\n",
            "\n",
            "    accuracy                           0.49       200\n",
            "   macro avg       0.49      0.49      0.47       200\n",
            "weighted avg       0.49      0.49      0.47       200\n",
            "\n",
            "\n",
            "Confusion Matrix:\n",
            "[[28 72]\n",
            " [30 70]]\n",
            "\n",
            "Accuracy Score: 0.49\n"
          ]
        }
      ],
      "source": [
        "evaluate_classification_metrics(results_lite_df_example)"
      ]
    },
    {
      "cell_type": "code",
      "execution_count": null,
      "metadata": {
        "colab": {
          "base_uri": "https://localhost:8080/"
        },
        "id": "0tJjY4CmexcI",
        "outputId": "700e2f00-c027-4440-ab77-17941b2a3015"
      },
      "outputs": [
        {
          "name": "stderr",
          "output_type": "stream",
          "text": [
            "Evaluating: 100%|██████████| 100/100 [00:42<00:00,  2.33it/s]"
          ]
        },
        {
          "name": "stdout",
          "output_type": "stream",
          "text": [
            "Evaluation complete. Results saved to giga_lite_hallucination_eval_summary.csv\n"
          ]
        },
        {
          "name": "stderr",
          "output_type": "stream",
          "text": [
            "\n"
          ]
        }
      ],
      "source": [
        "prompt_example = PromptTemplate(\n",
        "    input_variables=[\"context\", \"description\"],\n",
        "    template=summary_prompt\n",
        ")\n",
        "\n",
        "llm_chain_example = prompt_example | giga\n",
        "\n",
        "results_lite_example_summary = run_hallucination_evaluation_summary(\n",
        "    df=balanced_df,\n",
        "    evaluate_hallucinations=run_hallucination_evaluation_summary,\n",
        "    llm_chain = llm_chain_example,\n",
        "    output_path=\"giga_lite_hallucination_eval_summary.csv\"\n",
        ")"
      ]
    },
    {
      "cell_type": "code",
      "execution_count": null,
      "metadata": {
        "id": "GOei_OO1flYz"
      },
      "outputs": [],
      "source": [
        "results_lite_example_summary['prediction_num'] = results_lite_example_summary['prediction'].map({\"hallucinated\": 1, \"faithful\": 0})"
      ]
    },
    {
      "cell_type": "code",
      "execution_count": null,
      "metadata": {
        "id": "ZCK0TGEgiODW"
      },
      "outputs": [],
      "source": [
        "results_lite_example_summary['prediction_num'] = results_lite_example_summary['prediction_num'].astype(int)"
      ]
    },
    {
      "cell_type": "code",
      "execution_count": null,
      "metadata": {
        "colab": {
          "base_uri": "https://localhost:8080/"
        },
        "id": "6NpdCMP9faRz",
        "outputId": "9e2ee9e2-bf43-4075-905a-09077de5616a"
      },
      "outputs": [
        {
          "name": "stdout",
          "output_type": "stream",
          "text": [
            "\n",
            "Classification Report:\n",
            "              precision    recall  f1-score   support\n",
            "\n",
            "           0       0.54      0.60      0.57        50\n",
            "           1       0.55      0.48      0.51        50\n",
            "\n",
            "    accuracy                           0.54       100\n",
            "   macro avg       0.54      0.54      0.54       100\n",
            "weighted avg       0.54      0.54      0.54       100\n",
            "\n",
            "\n",
            "Confusion Matrix:\n",
            "[[30 20]\n",
            " [26 24]]\n",
            "\n",
            "Accuracy Score: 0.54\n"
          ]
        }
      ],
      "source": [
        "evaluate_classification_metrics(results_lite_example_summary)"
      ]
    },
    {
      "cell_type": "code",
      "execution_count": null,
      "metadata": {
        "id": "B-lVzeenAyk4"
      },
      "outputs": [],
      "source": [
        "prompt_example = PromptTemplate(\n",
        "    input_variables=[\"context\", \"description\"],\n",
        "    template=prompt_summary_cot_2\n",
        ")\n",
        "\n",
        "llm_chain_example = prompt_example | giga"
      ]
    },
    {
      "cell_type": "code",
      "execution_count": null,
      "metadata": {
        "colab": {
          "base_uri": "https://localhost:8080/"
        },
        "id": "nuGtirf8A1Nf",
        "outputId": "2a8e2dc8-8988-4d6f-8bf3-6dca29f7d2a1"
      },
      "outputs": [
        {
          "name": "stderr",
          "output_type": "stream",
          "text": [
            "Evaluating:  71%|███████   | 71/100 [00:25<00:10,  2.86it/s]WARNING:langchain_gigachat.chat_models.gigachat:Giga generation stopped with reason: blacklist\n",
            "Evaluating: 100%|██████████| 100/100 [00:35<00:00,  2.83it/s]"
          ]
        },
        {
          "name": "stdout",
          "output_type": "stream",
          "text": [
            "Evaluation complete. Results saved to giga_lite_hallucination_eval_summary_2.csv\n"
          ]
        },
        {
          "name": "stderr",
          "output_type": "stream",
          "text": [
            "\n"
          ]
        }
      ],
      "source": [
        "results_lite_example_summary = run_hallucination_evaluation_summary(\n",
        "    df=balanced_df,\n",
        "    evaluate_hallucinations=run_hallucination_evaluation_summary,\n",
        "    llm_chain = llm_chain_example,\n",
        "    output_path=\"giga_lite_hallucination_eval_summary_2.csv\"\n",
        ")"
      ]
    },
    {
      "cell_type": "code",
      "execution_count": null,
      "metadata": {
        "id": "KqGLxBONA-Qu"
      },
      "outputs": [],
      "source": [
        "results_lite_example_summary['prediction_num'] = results_lite_example_summary['prediction'].map({\"true\": 1, \"false\": 0})"
      ]
    },
    {
      "cell_type": "code",
      "execution_count": null,
      "metadata": {
        "id": "VoxucXM6BFL5"
      },
      "outputs": [],
      "source": [
        "nan_rows = results_lite_example_summary[results_lite_example_summary[\"prediction_num\"].isna()]"
      ]
    },
    {
      "cell_type": "code",
      "execution_count": null,
      "metadata": {
        "id": "rhCkiE57BKhf"
      },
      "outputs": [],
      "source": [
        "results_lite_example_summary = results_lite_example_summary.dropna()"
      ]
    },
    {
      "cell_type": "code",
      "execution_count": null,
      "metadata": {
        "id": "RoaVoSv9-D5O"
      },
      "outputs": [],
      "source": [
        "results_lite_example_summary['prediction_num'] = results_lite_example_summary['prediction'].map({\"hallucinated\": 1, \"faithful\": 0})"
      ]
    },
    {
      "cell_type": "code",
      "execution_count": null,
      "metadata": {
        "id": "d3rEaZsuBZw5"
      },
      "outputs": [],
      "source": [
        "results_lite_example_summary['prediction_num'] = results_lite_example_summary['prediction_num'].astype(int)"
      ]
    },
    {
      "cell_type": "code",
      "execution_count": null,
      "metadata": {
        "colab": {
          "base_uri": "https://localhost:8080/"
        },
        "id": "Mg-Gk4XiBdeO",
        "outputId": "88af0762-7498-49b9-ea96-52242501d480"
      },
      "outputs": [
        {
          "name": "stdout",
          "output_type": "stream",
          "text": [
            "\n",
            "Classification Report:\n",
            "              precision    recall  f1-score   support\n",
            "\n",
            "           0       0.49      0.44      0.46        50\n",
            "           1       0.48      0.53      0.50        49\n",
            "\n",
            "    accuracy                           0.48        99\n",
            "   macro avg       0.49      0.49      0.48        99\n",
            "weighted avg       0.49      0.48      0.48        99\n",
            "\n",
            "\n",
            "Confusion Matrix:\n",
            "[[22 28]\n",
            " [23 26]]\n",
            "\n",
            "Accuracy Score: 0.48484848484848486\n"
          ]
        }
      ],
      "source": [
        "evaluate_classification_metrics(results_lite_example_summary)"
      ]
    },
    {
      "cell_type": "markdown",
      "metadata": {
        "id": "PYk84kl-G93B"
      },
      "source": [
        "### Gigatchat-Max"
      ]
    },
    {
      "cell_type": "code",
      "execution_count": null,
      "metadata": {
        "id": "Tx_O6yg1HA0v"
      },
      "outputs": [],
      "source": [
        "from langchain_gigachat.chat_models import GigaChat\n",
        "from langchain.prompts import PromptTemplate\n",
        "gigachat_token = \"token\"\n",
        "\n",
        "giga_max = GigaChat (\n",
        "    credentials=gigachat_token_new,\n",
        "    model=\"GigaChat-2-Max\",\n",
        "    #scope=\"GIGACHAT_API_CORP\",\n",
        "    verify_ssl_certs=False\n",
        ")\n",
        "\n",
        "prompt_eng = PromptTemplate(\n",
        "    input_variables=[\"context\", \"query\", \"output\"],\n",
        "    template=eng_prompt\n",
        ")\n",
        "\n",
        "prompt_rus = PromptTemplate(\n",
        "    input_variables=[\"context\", \"query\", \"output\"],\n",
        "    template=rus_prompt\n",
        ")\n",
        "\n",
        "llm_chain_eng = prompt_eng | giga_max\n",
        "llm_chain_rus = prompt_rus | giga_max"
      ]
    },
    {
      "cell_type": "code",
      "execution_count": null,
      "metadata": {
        "colab": {
          "base_uri": "https://localhost:8080/"
        },
        "id": "HlcgNTldIQjj",
        "outputId": "ff16b623-eecf-4aee-ec26-5f41f405436b"
      },
      "outputs": [
        {
          "name": "stderr",
          "output_type": "stream",
          "text": [
            "Evaluating: 100%|██████████| 200/200 [01:05<00:00,  3.03it/s]"
          ]
        },
        {
          "name": "stdout",
          "output_type": "stream",
          "text": [
            "Evaluation complete. Results saved to giga_max_hallucination_eval_eng.csv\n"
          ]
        },
        {
          "name": "stderr",
          "output_type": "stream",
          "text": [
            "\n"
          ]
        }
      ],
      "source": [
        "results_max_df_eng = run_hallucination_evaluation(\n",
        "    df=balanced_small_test,\n",
        "    evaluate_hallucinations=evaluate_hallucinations,\n",
        "    llm_chain = llm_chain_eng,\n",
        "    output_path=\"giga_max_hallucination_eval_eng.csv\"\n",
        ")"
      ]
    },
    {
      "cell_type": "code",
      "execution_count": null,
      "metadata": {
        "colab": {
          "base_uri": "https://localhost:8080/"
        },
        "id": "r3u1wklxIrE5",
        "outputId": "c9830073-e726-40f5-9b6d-2639200ad9d3"
      },
      "outputs": [
        {
          "name": "stderr",
          "output_type": "stream",
          "text": [
            "Evaluating: 100%|██████████| 200/200 [01:09<00:00,  2.88it/s]"
          ]
        },
        {
          "name": "stdout",
          "output_type": "stream",
          "text": [
            "Evaluation complete. Results saved to giga_max_hallucination_eval_rus.csv\n"
          ]
        },
        {
          "name": "stderr",
          "output_type": "stream",
          "text": [
            "\n"
          ]
        }
      ],
      "source": [
        "results_max_df_rus = run_hallucination_evaluation(\n",
        "    df=balanced_small_test,\n",
        "    evaluate_hallucinations=evaluate_hallucinations,\n",
        "    llm_chain = llm_chain_rus,\n",
        "    output_path=\"giga_max_hallucination_eval_rus.csv\"\n",
        ")"
      ]
    },
    {
      "cell_type": "code",
      "execution_count": null,
      "metadata": {
        "id": "7xO5V8uTIyfY"
      },
      "outputs": [],
      "source": [
        "results_max_df_eng['prediction_num'] = results_max_df_eng['prediction'].map({\"true\": 1, \"false\": 0})\n",
        "results_max_df_rus['prediction_num'] = results_max_df_rus['prediction'].map({\"true\": 1, \"false\": 0})"
      ]
    },
    {
      "cell_type": "code",
      "execution_count": null,
      "metadata": {
        "id": "rZFhgMZ0I8DJ"
      },
      "outputs": [],
      "source": [
        "results_max_df_eng['prediction_num'] = results_max_df_eng['prediction_num'].astype(int)\n",
        "results_max_df_rus['prediction_num'] = results_max_df_rus['prediction_num'].astype(int)"
      ]
    },
    {
      "cell_type": "code",
      "execution_count": null,
      "metadata": {
        "colab": {
          "base_uri": "https://localhost:8080/"
        },
        "id": "JnXlm51AJGvJ",
        "outputId": "51bbcc9c-3492-4bb0-f634-5f878cd15278"
      },
      "outputs": [
        {
          "name": "stdout",
          "output_type": "stream",
          "text": [
            "\n",
            "Classification Report:\n",
            "              precision    recall  f1-score   support\n",
            "\n",
            "           0       0.82      0.99      0.90       100\n",
            "           1       0.99      0.79      0.88       100\n",
            "\n",
            "    accuracy                           0.89       200\n",
            "   macro avg       0.91      0.89      0.89       200\n",
            "weighted avg       0.91      0.89      0.89       200\n",
            "\n",
            "\n",
            "Confusion Matrix:\n",
            "[[99  1]\n",
            " [21 79]]\n",
            "\n",
            "Accuracy Score: 0.89\n"
          ]
        }
      ],
      "source": [
        "evaluate_classification_metrics(results_max_df_eng)"
      ]
    },
    {
      "cell_type": "code",
      "execution_count": null,
      "metadata": {
        "colab": {
          "base_uri": "https://localhost:8080/"
        },
        "id": "sQL5uE2rJV-g",
        "outputId": "6c226345-74e5-4f93-b017-f9a4763047a8"
      },
      "outputs": [
        {
          "name": "stdout",
          "output_type": "stream",
          "text": [
            "\n",
            "Classification Report:\n",
            "              precision    recall  f1-score   support\n",
            "\n",
            "           0       0.79      0.99      0.88       100\n",
            "           1       0.99      0.74      0.85       100\n",
            "\n",
            "    accuracy                           0.86       200\n",
            "   macro avg       0.89      0.86      0.86       200\n",
            "weighted avg       0.89      0.86      0.86       200\n",
            "\n",
            "\n",
            "Confusion Matrix:\n",
            "[[99  1]\n",
            " [26 74]]\n",
            "\n",
            "Accuracy Score: 0.865\n"
          ]
        }
      ],
      "source": [
        "evaluate_classification_metrics(results_max_df_rus)"
      ]
    },
    {
      "cell_type": "code",
      "execution_count": null,
      "metadata": {
        "id": "ci7GVuTfv4rD"
      },
      "outputs": [],
      "source": [
        "prompt_example = PromptTemplate(\n",
        "    input_variables=[\"context\", \"query\", \"output\"],\n",
        "    template=eng_prompt_with_examples\n",
        ")\n",
        "llm_chain_example = prompt_example | giga_max"
      ]
    },
    {
      "cell_type": "code",
      "execution_count": null,
      "metadata": {
        "id": "lj40CFm8wqUv"
      },
      "outputs": [],
      "source": [
        "results_max_example = run_hallucination_evaluation(\n",
        "    df=balanced_small_test,\n",
        "    evaluate_hallucinations=evaluate_hallucinations,\n",
        "    llm_chain = llm_chain_example,\n",
        "    output_path=\"giga_max_hallucination_eval_example.csv\"\n",
        ")"
      ]
    },
    {
      "cell_type": "code",
      "execution_count": null,
      "metadata": {
        "id": "_CpuruOJw0TM"
      },
      "outputs": [],
      "source": [
        "results_max_example['prediction_num'] = results_max_example['prediction'].map({\"true\": 1, \"false\": 0})\n",
        "results_max_example['prediction_num'] = results_max_example['prediction_num'].astype(int)"
      ]
    },
    {
      "cell_type": "code",
      "execution_count": null,
      "metadata": {
        "colab": {
          "base_uri": "https://localhost:8080/"
        },
        "id": "k8Mlck0_w9eC",
        "outputId": "8a55efad-a8e2-471b-e0c6-1fb095b7fc93"
      },
      "outputs": [
        {
          "name": "stdout",
          "output_type": "stream",
          "text": [
            "\n",
            "Classification Report:\n",
            "              precision    recall  f1-score   support\n",
            "\n",
            "           0       0.90      0.97      0.93       100\n",
            "           1       0.97      0.89      0.93       100\n",
            "\n",
            "    accuracy                           0.93       200\n",
            "   macro avg       0.93      0.93      0.93       200\n",
            "weighted avg       0.93      0.93      0.93       200\n",
            "\n",
            "\n",
            "Confusion Matrix:\n",
            "[[97  3]\n",
            " [11 89]]\n",
            "\n",
            "Accuracy Score: 0.93\n"
          ]
        }
      ],
      "source": [
        "evaluate_classification_metrics(results_max_example)"
      ]
    },
    {
      "cell_type": "markdown",
      "metadata": {
        "id": "8p-HC9yFaQVm"
      },
      "source": [
        "### summary testing"
      ]
    },
    {
      "cell_type": "code",
      "execution_count": null,
      "metadata": {
        "id": "1E-i3kfcqKUg"
      },
      "outputs": [],
      "source": [
        "prompt_example = PromptTemplate(\n",
        "    input_variables=[\"context\", \"description\"],\n",
        "    template=summary_prompt\n",
        ")\n",
        "\n",
        "llm_chain_example = prompt_example | giga_max"
      ]
    },
    {
      "cell_type": "code",
      "execution_count": null,
      "metadata": {
        "colab": {
          "base_uri": "https://localhost:8080/"
        },
        "id": "OLvS_EW8M84Q",
        "outputId": "813fdd40-b2ca-4567-f29e-3187a7f38655"
      },
      "outputs": [
        {
          "name": "stderr",
          "output_type": "stream",
          "text": [
            "Evaluating:  71%|███████   | 71/100 [00:56<00:16,  1.78it/s]WARNING:langchain_gigachat.chat_models.gigachat:Giga generation stopped with reason: blacklist\n",
            "Evaluating: 100%|██████████| 100/100 [01:12<00:00,  1.38it/s]"
          ]
        },
        {
          "name": "stdout",
          "output_type": "stream",
          "text": [
            "Evaluation complete. Results saved to giga_max_hallucination_eval_summary.csv\n"
          ]
        },
        {
          "name": "stderr",
          "output_type": "stream",
          "text": [
            "\n"
          ]
        }
      ],
      "source": [
        "results_lite_example_summary = run_hallucination_evaluation_summary(\n",
        "    df = balanced_df,\n",
        "    evaluate_hallucinations=run_hallucination_evaluation_summary,\n",
        "    llm_chain = llm_chain_example,\n",
        "    output_path=\"giga_max_hallucination_eval_summary.csv\")"
      ]
    },
    {
      "cell_type": "code",
      "execution_count": null,
      "metadata": {
        "id": "d01KhNe_uNuq"
      },
      "outputs": [],
      "source": [
        "results_lite_example_summary['prediction_num'] = results_lite_example_summary['prediction'].map({\"hallucinated\": 1, \"faithful\": 0})"
      ]
    },
    {
      "cell_type": "code",
      "execution_count": null,
      "metadata": {
        "id": "gpsSce3iNmDD"
      },
      "outputs": [],
      "source": [
        "results_lite_example_summary = results_lite_example_summary.dropna()"
      ]
    },
    {
      "cell_type": "code",
      "execution_count": null,
      "metadata": {
        "id": "l7m3aKmFMUzU"
      },
      "outputs": [],
      "source": [
        "results_lite_example_summary['prediction_num'] = results_lite_example_summary['prediction_num'].astype(int)"
      ]
    },
    {
      "cell_type": "code",
      "execution_count": null,
      "metadata": {
        "colab": {
          "base_uri": "https://localhost:8080/"
        },
        "id": "zXLWtK5yawwu",
        "outputId": "ea4338df-b7ed-48e6-9ca9-450c696b5d6d"
      },
      "outputs": [
        {
          "name": "stdout",
          "output_type": "stream",
          "text": [
            "\n",
            "Classification Report:\n",
            "              precision    recall  f1-score   support\n",
            "\n",
            "           0       0.64      0.98      0.77        50\n",
            "           1       0.95      0.43      0.59        49\n",
            "\n",
            "    accuracy                           0.71        99\n",
            "   macro avg       0.80      0.70      0.68        99\n",
            "weighted avg       0.79      0.71      0.68        99\n",
            "\n",
            "\n",
            "Confusion Matrix:\n",
            "[[49  1]\n",
            " [28 21]]\n",
            "\n",
            "Accuracy Score: 0.7070707070707071\n"
          ]
        }
      ],
      "source": [
        "evaluate_classification_metrics(results_lite_example_summary)"
      ]
    },
    {
      "cell_type": "code",
      "execution_count": null,
      "metadata": {
        "id": "NKqNu1H6XOot"
      },
      "outputs": [],
      "source": [
        "prompt_example = PromptTemplate(\n",
        "    input_variables=[\"context\", \"description\"],\n",
        "    template=prompt_summary_cot_2\n",
        ")\n",
        "\n",
        "llm_chain_example = prompt_example | giga_max"
      ]
    },
    {
      "cell_type": "code",
      "execution_count": null,
      "metadata": {
        "colab": {
          "base_uri": "https://localhost:8080/"
        },
        "id": "ITmqJYphysKf",
        "outputId": "335d38b3-4bb7-452f-d2f9-cc4eb98562f7"
      },
      "outputs": [
        {
          "name": "stderr",
          "output_type": "stream",
          "text": [
            "Evaluating:  71%|███████   | 71/100 [00:30<00:13,  2.08it/s]WARNING:langchain_gigachat.chat_models.gigachat:Giga generation stopped with reason: blacklist\n",
            "Evaluating: 100%|██████████| 100/100 [00:42<00:00,  2.34it/s]"
          ]
        },
        {
          "name": "stdout",
          "output_type": "stream",
          "text": [
            "Evaluation complete. Results saved to giga_max_hallucination_eval_summary_cot_100.csv\n"
          ]
        },
        {
          "name": "stderr",
          "output_type": "stream",
          "text": [
            "\n"
          ]
        }
      ],
      "source": [
        "results_max_example_summary_cot2 = run_hallucination_evaluation_summary(\n",
        "    df = balanced_df,\n",
        "    evaluate_hallucinations=run_hallucination_evaluation_summary,\n",
        "    llm_chain = llm_chain_example,\n",
        "    output_path=\"giga_max_hallucination_eval_summary_cot_100.csv\")"
      ]
    },
    {
      "cell_type": "code",
      "execution_count": null,
      "metadata": {
        "colab": {
          "base_uri": "https://localhost:8080/"
        },
        "id": "8-VGvUyR2VqP",
        "outputId": "1994c9ba-953e-4c93-b7db-817698091479"
      },
      "outputs": [
        {
          "name": "stdout",
          "output_type": "stream",
          "text": [
            "\n",
            "Classification Report:\n",
            "              precision    recall  f1-score   support\n",
            "\n",
            "           0       0.84      0.82      0.83        50\n",
            "           1       0.82      0.84      0.83        49\n",
            "\n",
            "    accuracy                           0.83        99\n",
            "   macro avg       0.83      0.83      0.83        99\n",
            "weighted avg       0.83      0.83      0.83        99\n",
            "\n",
            "\n",
            "Confusion Matrix:\n",
            "[[41  9]\n",
            " [ 8 41]]\n",
            "\n",
            "Accuracy Score: 0.8282828282828283\n"
          ]
        }
      ],
      "source": [
        "results_max_example_summary_cot2['prediction_num'] = results_max_example_summary_cot2['prediction'].map({\"hallucinated\": 1, \"faithful\": 0})\n",
        "results_max_example_summary_cot2 = results_max_example_summary_cot2.dropna()\n",
        "evaluate_classification_metrics(results_max_example_summary_cot2)"
      ]
    },
    {
      "cell_type": "markdown",
      "metadata": {
        "id": "UELRG4VuXktx"
      },
      "source": [
        "## GPT 4o"
      ]
    },
    {
      "cell_type": "code",
      "execution_count": null,
      "metadata": {
        "id": "NMXb0frrYub0"
      },
      "outputs": [],
      "source": [
        "from cozepy import Coze, TokenAuth, Message, ChatStatus #https://github.com/coze-dev/coze-py"
      ]
    },
    {
      "cell_type": "code",
      "execution_count": null,
      "metadata": {
        "id": "yVPX2ae_Ytqn"
      },
      "outputs": [],
      "source": [
        "coze_api_base =  'api.coze.com'\n",
        "coze_api_token =  'token'\n",
        "\n",
        "coze = Coze(auth=TokenAuth(coze_api_token))"
      ]
    },
    {
      "cell_type": "code",
      "execution_count": null,
      "metadata": {
        "id": "rNhZ2AdHXpL-"
      },
      "outputs": [],
      "source": [
        "def oneshot_coze(prompt: str, model: str = '4o') -> str:\n",
        "    if model == '4o':\n",
        "        bot_id = 'bot_id'\n",
        "    else:  # claude\n",
        "        bot_id = 'bot_id'\n",
        "\n",
        "    chat_poll = coze.chat.create_and_poll(\n",
        "            bot_id=bot_id,\n",
        "            user_id='user_id',\n",
        "            additional_messages=[Message.build_user_question_text(prompt)]\n",
        "    )\n",
        "    response_content = ''.join(message.content for message in chat_poll.messages)\n",
        "    response_content = response_content.split('{', 1)[0]\n",
        "    return response_content\n",
        "\n",
        "\n",
        "def evaluate_hallucinations(prompt_template, df, model='4o'):\n",
        "    results = []\n",
        "\n",
        "    for _, row in tqdm(df.iterrows(), total=len(df), desc=\"Evaluating\"):\n",
        "\n",
        "        context = row[\"context\"]\n",
        "        query = row[\"query\"]\n",
        "        output = row[\"output\"]\n",
        "        label = row[\"binary_label\"]\n",
        "\n",
        "        filled_prompt = prompt_template.format(\n",
        "            context = context,\n",
        "            query = query,\n",
        "            description = output\n",
        "        )\n",
        "        prediction = oneshot_coze(filled_prompt, model=model).strip().lower()\n",
        "\n",
        "        results.append({\n",
        "            \"context\": context,\n",
        "            \"query\": query,\n",
        "            \"output\": output,\n",
        "            \"label\": label,\n",
        "            \"prediction\": prediction\n",
        "        })\n",
        "\n",
        "    return pd.DataFrame(results)\n"
      ]
    },
    {
      "cell_type": "code",
      "execution_count": null,
      "metadata": {
        "colab": {
          "base_uri": "https://localhost:8080/"
        },
        "id": "nz5QeEzgZYFl",
        "outputId": "28bd6c5c-2851-4c97-890a-cf997f04d064"
      },
      "outputs": [
        {
          "name": "stderr",
          "output_type": "stream",
          "text": [
            "Evaluating: 100%|██████████| 200/200 [08:06<00:00,  2.43s/it]\n"
          ]
        }
      ],
      "source": [
        "result_gpt_eng = evaluate_hallucinations(prompt_eng, balanced_small_test)"
      ]
    },
    {
      "cell_type": "code",
      "execution_count": null,
      "metadata": {
        "id": "rIPAsXhke4Ra"
      },
      "outputs": [],
      "source": [
        "result_gpt_eng.to_csv(\"result_gpt_eng.csv\")"
      ]
    },
    {
      "cell_type": "code",
      "execution_count": null,
      "metadata": {
        "colab": {
          "base_uri": "https://localhost:8080/"
        },
        "id": "4Ly1_W3bcPNa",
        "outputId": "8c005d51-2fe9-4dcc-b804-f23bb04fef9d"
      },
      "outputs": [
        {
          "name": "stderr",
          "output_type": "stream",
          "text": [
            "Evaluating: 100%|██████████| 200/200 [08:19<00:00,  2.50s/it]\n"
          ]
        }
      ],
      "source": [
        "result_gpt_rus = evaluate_hallucinations(rus_prompt, balanced_small_test)"
      ]
    },
    {
      "cell_type": "code",
      "execution_count": null,
      "metadata": {
        "id": "Ve9WOZcFg_rn"
      },
      "outputs": [],
      "source": [
        "result_gpt_rus.to_csv(\"result_gpt_rus.csv\")"
      ]
    },
    {
      "cell_type": "code",
      "execution_count": null,
      "metadata": {
        "id": "pRZykZuOd2Ic"
      },
      "outputs": [],
      "source": [
        "result_gpt_eng['prediction_num'] = result_gpt_eng['prediction'].map({\"true\": 1, \"false\": 0})"
      ]
    },
    {
      "cell_type": "code",
      "execution_count": null,
      "metadata": {
        "id": "5OCBc_DbcRct"
      },
      "outputs": [],
      "source": [
        "result_gpt_eng['prediction_num'] = result_gpt_eng['prediction_num'].astype(int)"
      ]
    },
    {
      "cell_type": "code",
      "execution_count": null,
      "metadata": {
        "id": "X8vAGZhdk5OV"
      },
      "outputs": [],
      "source": [
        "result_gpt_rus['prediction_num'] = result_gpt_rus['prediction'].map({\"true\": 1, \"false\": 0})"
      ]
    },
    {
      "cell_type": "code",
      "execution_count": null,
      "metadata": {
        "id": "owPSxcb2lZD1"
      },
      "outputs": [],
      "source": [
        "result_gpt_rus['prediction_num'] = result_gpt_rus['prediction_num'].astype(int)"
      ]
    },
    {
      "cell_type": "code",
      "execution_count": null,
      "metadata": {
        "colab": {
          "base_uri": "https://localhost:8080/"
        },
        "id": "beznevuefoFT",
        "outputId": "ebda3a46-c158-4d46-9c58-5b5b92b13e18"
      },
      "outputs": [
        {
          "name": "stdout",
          "output_type": "stream",
          "text": [
            "\n",
            "Classification Report:\n",
            "              precision    recall  f1-score   support\n",
            "\n",
            "           0       0.99      0.92      0.95       100\n",
            "           1       0.93      0.99      0.96       100\n",
            "\n",
            "    accuracy                           0.95       200\n",
            "   macro avg       0.96      0.96      0.95       200\n",
            "weighted avg       0.96      0.95      0.95       200\n",
            "\n",
            "\n",
            "Confusion Matrix:\n",
            "[[92  8]\n",
            " [ 1 99]]\n",
            "\n",
            "Accuracy Score: 0.955\n"
          ]
        }
      ],
      "source": [
        "evaluate_classification_metrics(result_gpt_eng)"
      ]
    },
    {
      "cell_type": "code",
      "execution_count": null,
      "metadata": {
        "colab": {
          "base_uri": "https://localhost:8080/"
        },
        "id": "d4_VJi1cgt1z",
        "outputId": "f396bd89-5303-4c72-e4da-ed6d46a68fa2"
      },
      "outputs": [
        {
          "name": "stdout",
          "output_type": "stream",
          "text": [
            "\n",
            "Classification Report:\n",
            "              precision    recall  f1-score   support\n",
            "\n",
            "           0       1.00      0.91      0.95       100\n",
            "           1       0.92      1.00      0.96       100\n",
            "\n",
            "    accuracy                           0.95       200\n",
            "   macro avg       0.96      0.96      0.95       200\n",
            "weighted avg       0.96      0.95      0.95       200\n",
            "\n",
            "\n",
            "Confusion Matrix:\n",
            "[[ 91   9]\n",
            " [  0 100]]\n",
            "\n",
            "Accuracy Score: 0.955\n"
          ]
        }
      ],
      "source": [
        "evaluate_classification_metrics(result_gpt_rus)"
      ]
    },
    {
      "cell_type": "markdown",
      "metadata": {
        "id": "uSLhvlwoxLVT"
      },
      "source": [
        "### testing tokens"
      ]
    },
    {
      "cell_type": "code",
      "execution_count": 1,
      "metadata": {
        "id": "XrBda7XQo5yK"
      },
      "outputs": [],
      "source": [
        "import pandas as pd\n",
        "\n",
        "df = pd.read_parquet(\"/content/Slovcova.parquet\")"
      ]
    },
    {
      "cell_type": "code",
      "execution_count": 2,
      "metadata": {
        "colab": {
          "base_uri": "https://localhost:8080/"
        },
        "id": "dMk--bAd_ED-",
        "outputId": "b559bb7f-4ef6-405b-b643-0c3edd5d6fde"
      },
      "outputs": [
        {
          "name": "stdout",
          "output_type": "stream",
          "text": [
            "<class 'pandas.core.frame.DataFrame'>\n",
            "RangeIndex: 45 entries, 0 to 44\n",
            "Data columns (total 7 columns):\n",
            " #   Column             Non-Null Count  Dtype \n",
            "---  ------             --------------  ----- \n",
            " 0   name               45 non-null     object\n",
            " 1   title              45 non-null     object\n",
            " 2   text               45 non-null     object\n",
            " 3   short_description  45 non-null     object\n",
            " 4   nodes              45 non-null     object\n",
            " 5   image              45 non-null     object\n",
            " 6   embeddings         45 non-null     object\n",
            "dtypes: object(7)\n",
            "memory usage: 2.6+ KB\n"
          ]
        }
      ],
      "source": [
        "df.info()"
      ]
    },
    {
      "cell_type": "code",
      "execution_count": 3,
      "metadata": {
        "colab": {
          "base_uri": "https://localhost:8080/",
          "height": 286,
          "referenced_widgets": [
            "013c530ae82e4e749a9a30963dd27d77",
            "c654f23fa1984e00b1f400763e9736e1",
            "e7f3c036f819495f8b739d36ab26ac1c",
            "bb7da9a2f3ce4861aeaad6e28216e3f9",
            "295e43ed54b14eddaf7e3edbce3e2447",
            "9db1c710a9d64d75ab74971c726feba7",
            "08c66e4c74814fce98bd21091b756097",
            "78c42da109a14f56ab88067b08b6a695",
            "c78b0c6802554c4090abcb19d70dfef4",
            "2664c28056c64292b14d0bb82e476801",
            "28b56027b04f4d0fa2e61f5d374e4a22",
            "9c9ba5a37ec44ced9b1a3bab27585b18",
            "22a6c71bc1ea418bbabf19f92967e9ea",
            "49ea7eb5f80448bb9c72a791d9b183d1",
            "da465a76ed4a48749f821147af4951bc",
            "72011bd92adc47a3920d93a411dba602",
            "99db0947890544289bf75d1d52d934c1",
            "dbe9a77f8472486a8341433fade4972d",
            "8a5cd27ee00846cd8147010822220bae",
            "83fa2602001e400497e7e8d7dcefa769",
            "6b0e00685da34c92b5d02f000c6dbad3",
            "fb93ed9e7fb744c79430f1bf0e562d30",
            "e1007ab5bc914801981cdfd4da8bca61",
            "2132038bff82412eade8d679e99c9fa9",
            "89ead500f7154d23be9a066d6567ba27",
            "147675ee58ea4fb792c1276712b46436",
            "5546dd31db3241abb43308aebd871bd7",
            "2fadf1577f50425cb10c9ed1a0b70368",
            "d067670f9e474b05a5c71a570a99c52f",
            "21222d1de3b04bbf95bb23740028e871",
            "07a1aa1aabb6462aaf7b6ec9579dba7c",
            "43f05981f9724db4be37b6e8321ce431",
            "d42bcf9c7d874fdfba09d0e170795b43",
            "eb4b145ed05a42c098ecea3c7869e778",
            "6a73aadadf8e4f69b328167deaf0e359",
            "13a554be0cc8457ab4dab12b3985c386",
            "44d553a36b8741aabbd7a8cea0f0de09",
            "32dea1d9de444a1caf1306c42deff6d8",
            "40a7c58085fb41ab8d1a5a1b3e9993cb",
            "7c8d229176934682a6a923c0a6b56e55",
            "2574a67d91f34f4aa3221e6a89b69cbe",
            "a1862778952e4f689b12884a66b320be",
            "3795c40a5db64b3d8b8daa2c401185a3",
            "2888f4b1c62a446daf282a27e355b1bb"
          ]
        },
        "id": "cfjV1ZVb_NXx",
        "outputId": "9ba8d666-3e46-4613-8ac1-c2f601fb1997"
      },
      "outputs": [
        {
          "name": "stderr",
          "output_type": "stream",
          "text": [
            "/usr/local/lib/python3.11/dist-packages/huggingface_hub/utils/_auth.py:94: UserWarning: \n",
            "The secret `HF_TOKEN` does not exist in your Colab secrets.\n",
            "To authenticate with the Hugging Face Hub, create a token in your settings tab (https://huggingface.co/settings/tokens), set it as secret in your Google Colab and restart your session.\n",
            "You will be able to reuse this secret in all of your notebooks.\n",
            "Please note that authentication is recommended but still optional to access public models or datasets.\n",
            "  warnings.warn(\n"
          ]
        },
        {
          "data": {
            "application/vnd.jupyter.widget-view+json": {
              "model_id": "013c530ae82e4e749a9a30963dd27d77",
              "version_major": 2,
              "version_minor": 0
            },
            "text/plain": [
              "tokenizer_config.json:   0%|          | 0.00/48.0 [00:00<?, ?B/s]"
            ]
          },
          "metadata": {},
          "output_type": "display_data"
        },
        {
          "data": {
            "application/vnd.jupyter.widget-view+json": {
              "model_id": "9c9ba5a37ec44ced9b1a3bab27585b18",
              "version_major": 2,
              "version_minor": 0
            },
            "text/plain": [
              "config.json:   0%|          | 0.00/570 [00:00<?, ?B/s]"
            ]
          },
          "metadata": {},
          "output_type": "display_data"
        },
        {
          "data": {
            "application/vnd.jupyter.widget-view+json": {
              "model_id": "e1007ab5bc914801981cdfd4da8bca61",
              "version_major": 2,
              "version_minor": 0
            },
            "text/plain": [
              "vocab.txt:   0%|          | 0.00/232k [00:00<?, ?B/s]"
            ]
          },
          "metadata": {},
          "output_type": "display_data"
        },
        {
          "data": {
            "application/vnd.jupyter.widget-view+json": {
              "model_id": "eb4b145ed05a42c098ecea3c7869e778",
              "version_major": 2,
              "version_minor": 0
            },
            "text/plain": [
              "tokenizer.json:   0%|          | 0.00/466k [00:00<?, ?B/s]"
            ]
          },
          "metadata": {},
          "output_type": "display_data"
        },
        {
          "name": "stderr",
          "output_type": "stream",
          "text": [
            "Token indices sequence length is longer than the specified maximum sequence length for this model (1523 > 512). Running this sequence through the model will result in indexing errors\n"
          ]
        }
      ],
      "source": [
        "import pandas as pd\n",
        "from transformers import AutoTokenizer\n",
        "\n",
        "tokenizer = AutoTokenizer.from_pretrained(\"bert-base-uncased\")\n",
        "\n",
        "df[\"token_count_bert\"] = df[\"text\"].dropna().apply(lambda x: len(tokenizer.tokenize(str(x))))\n"
      ]
    },
    {
      "cell_type": "code",
      "execution_count": 4,
      "metadata": {
        "colab": {
          "base_uri": "https://localhost:8080/",
          "height": 214,
          "referenced_widgets": [
            "1e25179524814017b731d2a2cae8463a",
            "e455cee3a0c74916a5e975a84bc25d40",
            "a074574a608743d18ee6b49f86e5fe8e",
            "882e66e3aeb34c41986e91f6073e49db",
            "09755f5a0f3f42e3a2da6ab400adea3e",
            "ae3bbae787114c65b76ee2104b26568e",
            "3337645af2524de1a9de9bc3af2f998d",
            "1a6f0b78b4474ab4a16cf495ccec526c",
            "397be4e2411c43428e4ee9a819725646",
            "f34c1b81e7c844719acbde7bf17f816a",
            "abcbd3c3af9148ae8a71747924d31b81",
            "e6a76ac7d44c485490dab2f035f86a0f",
            "c8f99a1504fd454a8220b923d7fcbfb2",
            "7267e8b6d20b4f86b4811785769e50e4",
            "57a8007912c04f31b6673fa49c259d05",
            "d2c63fe401ed4748b55509521fb99d66",
            "32b6e6dcb88a4d6d815db0f4d68e743d",
            "5c89df391b31414ab7a689965c405c5d",
            "aeac84b9e7334478926f6b68e99aa0a7",
            "446560825a7f429f9d8ef3520c317d83",
            "fcab55e643b244a4aae7b810deb2518a",
            "c29945d41c634cb29a4e54bf5bbe40db",
            "c0089555549f4e19a911d71a81b912d5",
            "9ceb99487f074b049c78e4a022fe6f97",
            "ce11361468ea4d50a41e3adf2f1073c2",
            "88029312bf524ad2adca6ac87b8d4b14",
            "ee77bf4612fb4b2faccdfa4455f9d271",
            "a2900c9e372b4976b8048105ec31e314",
            "6b86036714904cb0a63e787e09bace00",
            "c0b8d93f43f644dbbdad8d658ecf589f",
            "bd333de581ae4a7d95fdbddfc77cbf38",
            "166873fc57b74883ad6545047a97d265",
            "60fda071776b4df7b34a2b3753b448d0",
            "af887b5edcb84b24925a0c9628438f21",
            "f82c8adc28ab44dfa2ef7eeedbccc275",
            "f6304a9ed0254808be4cc88f8242ddd1",
            "f3121c1f27af4fa4b23bf61137b63c5b",
            "85afbae2c0a144f48ba4fec6c14da40d",
            "e952269a59a14b5580dd8e83b2d7ab0e",
            "13a3d9fec0bc460d8f382b8a74af40e5",
            "29608758670e4638a311b6bbef50472a",
            "adc6c5c2ec434d29bdbdbc53daa75da0",
            "48274cbca6784ee1bfbc5d32f07aa548",
            "ee72243b9cc24797bf46a6e3e89dfb00",
            "88bffc2e05914821b9b4a1e03e5e1812",
            "e16537b55335499db7a80915a25c4956",
            "be57e953d8a543218213ef0c269bfccf",
            "879cdb365bd74981ac2c540c78494c35",
            "1c8af2050c69497389a78ed5211afe74",
            "edda0bbd7cb948a3850f180da214b80c",
            "0a5c2bbad5ec4bdc9e326f9a5c912c33",
            "463a985201624a6abb6b877b60f7bf46",
            "78743fab073f460ab23335d5ccc95425",
            "0206152f391443d8bac2b607a44bc554",
            "9b0a881a649142f586a92ecbbc2de45f"
          ]
        },
        "id": "rmya8rfiBMUP",
        "outputId": "d267d58f-ac84-4209-ef22-e2ef40f9f034"
      },
      "outputs": [
        {
          "data": {
            "application/vnd.jupyter.widget-view+json": {
              "model_id": "1e25179524814017b731d2a2cae8463a",
              "version_major": 2,
              "version_minor": 0
            },
            "text/plain": [
              "tokenizer_config.json:   0%|          | 0.00/25.0 [00:00<?, ?B/s]"
            ]
          },
          "metadata": {},
          "output_type": "display_data"
        },
        {
          "data": {
            "application/vnd.jupyter.widget-view+json": {
              "model_id": "e6a76ac7d44c485490dab2f035f86a0f",
              "version_major": 2,
              "version_minor": 0
            },
            "text/plain": [
              "config.json:   0%|          | 0.00/481 [00:00<?, ?B/s]"
            ]
          },
          "metadata": {},
          "output_type": "display_data"
        },
        {
          "data": {
            "application/vnd.jupyter.widget-view+json": {
              "model_id": "c0089555549f4e19a911d71a81b912d5",
              "version_major": 2,
              "version_minor": 0
            },
            "text/plain": [
              "vocab.json:   0%|          | 0.00/899k [00:00<?, ?B/s]"
            ]
          },
          "metadata": {},
          "output_type": "display_data"
        },
        {
          "data": {
            "application/vnd.jupyter.widget-view+json": {
              "model_id": "af887b5edcb84b24925a0c9628438f21",
              "version_major": 2,
              "version_minor": 0
            },
            "text/plain": [
              "merges.txt:   0%|          | 0.00/456k [00:00<?, ?B/s]"
            ]
          },
          "metadata": {},
          "output_type": "display_data"
        },
        {
          "data": {
            "application/vnd.jupyter.widget-view+json": {
              "model_id": "88bffc2e05914821b9b4a1e03e5e1812",
              "version_major": 2,
              "version_minor": 0
            },
            "text/plain": [
              "tokenizer.json:   0%|          | 0.00/1.36M [00:00<?, ?B/s]"
            ]
          },
          "metadata": {},
          "output_type": "display_data"
        },
        {
          "name": "stderr",
          "output_type": "stream",
          "text": [
            "Token indices sequence length is longer than the specified maximum sequence length for this model (1983 > 512). Running this sequence through the model will result in indexing errors\n"
          ]
        }
      ],
      "source": [
        "tokenizer = AutoTokenizer.from_pretrained(\"roberta-base\")\n",
        "\n",
        "df[\"token_count_roberta\"] = df[\"text\"].dropna().apply(lambda x: len(tokenizer.tokenize(str(x))))"
      ]
    },
    {
      "cell_type": "code",
      "execution_count": 5,
      "metadata": {
        "colab": {
          "base_uri": "https://localhost:8080/"
        },
        "id": "VON9x29Q_s1u",
        "outputId": "654c90b9-1b90-4df9-b876-7ff2cb5c1831"
      },
      "outputs": [
        {
          "name": "stdout",
          "output_type": "stream",
          "text": [
            "Average (Mean) token_count_roberta: 1662.60\n",
            "Median token_count_roberta: 1408.0\n"
          ]
        }
      ],
      "source": [
        "average = df[\"token_count_roberta\"].mean()\n",
        "median = df[\"token_count_roberta\"].median()\n",
        "std_dev = df[\"token_count_roberta\"].std()\n",
        "\n",
        "print(f\"Average (Mean) token_count_roberta: {average:.2f}\")\n",
        "print(f\"Median token_count_roberta: {median}\")"
      ]
    },
    {
      "cell_type": "code",
      "execution_count": 6,
      "metadata": {
        "colab": {
          "base_uri": "https://localhost:8080/"
        },
        "id": "fSfQrJTQAg2r",
        "outputId": "21362b4f-072c-4fc3-a0cb-177bf664f827"
      },
      "outputs": [
        {
          "name": "stdout",
          "output_type": "stream",
          "text": [
            "Average (Mean) token_count_bert: 1274.73\n",
            "Median token_count_bert: 1072.0\n"
          ]
        }
      ],
      "source": [
        "average = df[\"token_count_bert\"].mean()\n",
        "median = df[\"token_count_bert\"].median()\n",
        "std_dev = df[\"token_count_bert\"].std()\n",
        "\n",
        "print(f\"Average (Mean) token_count_bert: {average:.2f}\")\n",
        "print(f\"Median token_count_bert: {median}\")"
      ]
    }
  ],
  "metadata": {
    "colab": {
      "provenance": []
    },
    "kernelspec": {
      "display_name": "Python 3",
      "name": "python3"
    },
    "language_info": {
      "name": "python"
    },
    "widgets": {
      "application/vnd.jupyter.widget-state+json": {
        "013c530ae82e4e749a9a30963dd27d77": {
          "model_module": "@jupyter-widgets/controls",
          "model_module_version": "1.5.0",
          "model_name": "HBoxModel",
          "state": {
            "_dom_classes": [],
            "_model_module": "@jupyter-widgets/controls",
            "_model_module_version": "1.5.0",
            "_model_name": "HBoxModel",
            "_view_count": null,
            "_view_module": "@jupyter-widgets/controls",
            "_view_module_version": "1.5.0",
            "_view_name": "HBoxView",
            "box_style": "",
            "children": [
              "IPY_MODEL_c654f23fa1984e00b1f400763e9736e1",
              "IPY_MODEL_e7f3c036f819495f8b739d36ab26ac1c",
              "IPY_MODEL_bb7da9a2f3ce4861aeaad6e28216e3f9"
            ],
            "layout": "IPY_MODEL_295e43ed54b14eddaf7e3edbce3e2447"
          }
        },
        "0206152f391443d8bac2b607a44bc554": {
          "model_module": "@jupyter-widgets/base",
          "model_module_version": "1.2.0",
          "model_name": "LayoutModel",
          "state": {
            "_model_module": "@jupyter-widgets/base",
            "_model_module_version": "1.2.0",
            "_model_name": "LayoutModel",
            "_view_count": null,
            "_view_module": "@jupyter-widgets/base",
            "_view_module_version": "1.2.0",
            "_view_name": "LayoutView",
            "align_content": null,
            "align_items": null,
            "align_self": null,
            "border": null,
            "bottom": null,
            "display": null,
            "flex": null,
            "flex_flow": null,
            "grid_area": null,
            "grid_auto_columns": null,
            "grid_auto_flow": null,
            "grid_auto_rows": null,
            "grid_column": null,
            "grid_gap": null,
            "grid_row": null,
            "grid_template_areas": null,
            "grid_template_columns": null,
            "grid_template_rows": null,
            "height": null,
            "justify_content": null,
            "justify_items": null,
            "left": null,
            "margin": null,
            "max_height": null,
            "max_width": null,
            "min_height": null,
            "min_width": null,
            "object_fit": null,
            "object_position": null,
            "order": null,
            "overflow": null,
            "overflow_x": null,
            "overflow_y": null,
            "padding": null,
            "right": null,
            "top": null,
            "visibility": null,
            "width": null
          }
        },
        "07a1aa1aabb6462aaf7b6ec9579dba7c": {
          "model_module": "@jupyter-widgets/controls",
          "model_module_version": "1.5.0",
          "model_name": "ProgressStyleModel",
          "state": {
            "_model_module": "@jupyter-widgets/controls",
            "_model_module_version": "1.5.0",
            "_model_name": "ProgressStyleModel",
            "_view_count": null,
            "_view_module": "@jupyter-widgets/base",
            "_view_module_version": "1.2.0",
            "_view_name": "StyleView",
            "bar_color": null,
            "description_width": ""
          }
        },
        "08c66e4c74814fce98bd21091b756097": {
          "model_module": "@jupyter-widgets/controls",
          "model_module_version": "1.5.0",
          "model_name": "DescriptionStyleModel",
          "state": {
            "_model_module": "@jupyter-widgets/controls",
            "_model_module_version": "1.5.0",
            "_model_name": "DescriptionStyleModel",
            "_view_count": null,
            "_view_module": "@jupyter-widgets/base",
            "_view_module_version": "1.2.0",
            "_view_name": "StyleView",
            "description_width": ""
          }
        },
        "09755f5a0f3f42e3a2da6ab400adea3e": {
          "model_module": "@jupyter-widgets/base",
          "model_module_version": "1.2.0",
          "model_name": "LayoutModel",
          "state": {
            "_model_module": "@jupyter-widgets/base",
            "_model_module_version": "1.2.0",
            "_model_name": "LayoutModel",
            "_view_count": null,
            "_view_module": "@jupyter-widgets/base",
            "_view_module_version": "1.2.0",
            "_view_name": "LayoutView",
            "align_content": null,
            "align_items": null,
            "align_self": null,
            "border": null,
            "bottom": null,
            "display": null,
            "flex": null,
            "flex_flow": null,
            "grid_area": null,
            "grid_auto_columns": null,
            "grid_auto_flow": null,
            "grid_auto_rows": null,
            "grid_column": null,
            "grid_gap": null,
            "grid_row": null,
            "grid_template_areas": null,
            "grid_template_columns": null,
            "grid_template_rows": null,
            "height": null,
            "justify_content": null,
            "justify_items": null,
            "left": null,
            "margin": null,
            "max_height": null,
            "max_width": null,
            "min_height": null,
            "min_width": null,
            "object_fit": null,
            "object_position": null,
            "order": null,
            "overflow": null,
            "overflow_x": null,
            "overflow_y": null,
            "padding": null,
            "right": null,
            "top": null,
            "visibility": null,
            "width": null
          }
        },
        "0a5c2bbad5ec4bdc9e326f9a5c912c33": {
          "model_module": "@jupyter-widgets/controls",
          "model_module_version": "1.5.0",
          "model_name": "DescriptionStyleModel",
          "state": {
            "_model_module": "@jupyter-widgets/controls",
            "_model_module_version": "1.5.0",
            "_model_name": "DescriptionStyleModel",
            "_view_count": null,
            "_view_module": "@jupyter-widgets/base",
            "_view_module_version": "1.2.0",
            "_view_name": "StyleView",
            "description_width": ""
          }
        },
        "13a3d9fec0bc460d8f382b8a74af40e5": {
          "model_module": "@jupyter-widgets/controls",
          "model_module_version": "1.5.0",
          "model_name": "DescriptionStyleModel",
          "state": {
            "_model_module": "@jupyter-widgets/controls",
            "_model_module_version": "1.5.0",
            "_model_name": "DescriptionStyleModel",
            "_view_count": null,
            "_view_module": "@jupyter-widgets/base",
            "_view_module_version": "1.2.0",
            "_view_name": "StyleView",
            "description_width": ""
          }
        },
        "13a554be0cc8457ab4dab12b3985c386": {
          "model_module": "@jupyter-widgets/controls",
          "model_module_version": "1.5.0",
          "model_name": "FloatProgressModel",
          "state": {
            "_dom_classes": [],
            "_model_module": "@jupyter-widgets/controls",
            "_model_module_version": "1.5.0",
            "_model_name": "FloatProgressModel",
            "_view_count": null,
            "_view_module": "@jupyter-widgets/controls",
            "_view_module_version": "1.5.0",
            "_view_name": "ProgressView",
            "bar_style": "success",
            "description": "",
            "description_tooltip": null,
            "layout": "IPY_MODEL_2574a67d91f34f4aa3221e6a89b69cbe",
            "max": 466062,
            "min": 0,
            "orientation": "horizontal",
            "style": "IPY_MODEL_a1862778952e4f689b12884a66b320be",
            "value": 466062
          }
        },
        "147675ee58ea4fb792c1276712b46436": {
          "model_module": "@jupyter-widgets/controls",
          "model_module_version": "1.5.0",
          "model_name": "HTMLModel",
          "state": {
            "_dom_classes": [],
            "_model_module": "@jupyter-widgets/controls",
            "_model_module_version": "1.5.0",
            "_model_name": "HTMLModel",
            "_view_count": null,
            "_view_module": "@jupyter-widgets/controls",
            "_view_module_version": "1.5.0",
            "_view_name": "HTMLView",
            "description": "",
            "description_tooltip": null,
            "layout": "IPY_MODEL_43f05981f9724db4be37b6e8321ce431",
            "placeholder": "​",
            "style": "IPY_MODEL_d42bcf9c7d874fdfba09d0e170795b43",
            "value": " 232k/232k [00:00&lt;00:00, 7.02MB/s]"
          }
        },
        "166873fc57b74883ad6545047a97d265": {
          "model_module": "@jupyter-widgets/base",
          "model_module_version": "1.2.0",
          "model_name": "LayoutModel",
          "state": {
            "_model_module": "@jupyter-widgets/base",
            "_model_module_version": "1.2.0",
            "_model_name": "LayoutModel",
            "_view_count": null,
            "_view_module": "@jupyter-widgets/base",
            "_view_module_version": "1.2.0",
            "_view_name": "LayoutView",
            "align_content": null,
            "align_items": null,
            "align_self": null,
            "border": null,
            "bottom": null,
            "display": null,
            "flex": null,
            "flex_flow": null,
            "grid_area": null,
            "grid_auto_columns": null,
            "grid_auto_flow": null,
            "grid_auto_rows": null,
            "grid_column": null,
            "grid_gap": null,
            "grid_row": null,
            "grid_template_areas": null,
            "grid_template_columns": null,
            "grid_template_rows": null,
            "height": null,
            "justify_content": null,
            "justify_items": null,
            "left": null,
            "margin": null,
            "max_height": null,
            "max_width": null,
            "min_height": null,
            "min_width": null,
            "object_fit": null,
            "object_position": null,
            "order": null,
            "overflow": null,
            "overflow_x": null,
            "overflow_y": null,
            "padding": null,
            "right": null,
            "top": null,
            "visibility": null,
            "width": null
          }
        },
        "1a6f0b78b4474ab4a16cf495ccec526c": {
          "model_module": "@jupyter-widgets/base",
          "model_module_version": "1.2.0",
          "model_name": "LayoutModel",
          "state": {
            "_model_module": "@jupyter-widgets/base",
            "_model_module_version": "1.2.0",
            "_model_name": "LayoutModel",
            "_view_count": null,
            "_view_module": "@jupyter-widgets/base",
            "_view_module_version": "1.2.0",
            "_view_name": "LayoutView",
            "align_content": null,
            "align_items": null,
            "align_self": null,
            "border": null,
            "bottom": null,
            "display": null,
            "flex": null,
            "flex_flow": null,
            "grid_area": null,
            "grid_auto_columns": null,
            "grid_auto_flow": null,
            "grid_auto_rows": null,
            "grid_column": null,
            "grid_gap": null,
            "grid_row": null,
            "grid_template_areas": null,
            "grid_template_columns": null,
            "grid_template_rows": null,
            "height": null,
            "justify_content": null,
            "justify_items": null,
            "left": null,
            "margin": null,
            "max_height": null,
            "max_width": null,
            "min_height": null,
            "min_width": null,
            "object_fit": null,
            "object_position": null,
            "order": null,
            "overflow": null,
            "overflow_x": null,
            "overflow_y": null,
            "padding": null,
            "right": null,
            "top": null,
            "visibility": null,
            "width": null
          }
        },
        "1c8af2050c69497389a78ed5211afe74": {
          "model_module": "@jupyter-widgets/base",
          "model_module_version": "1.2.0",
          "model_name": "LayoutModel",
          "state": {
            "_model_module": "@jupyter-widgets/base",
            "_model_module_version": "1.2.0",
            "_model_name": "LayoutModel",
            "_view_count": null,
            "_view_module": "@jupyter-widgets/base",
            "_view_module_version": "1.2.0",
            "_view_name": "LayoutView",
            "align_content": null,
            "align_items": null,
            "align_self": null,
            "border": null,
            "bottom": null,
            "display": null,
            "flex": null,
            "flex_flow": null,
            "grid_area": null,
            "grid_auto_columns": null,
            "grid_auto_flow": null,
            "grid_auto_rows": null,
            "grid_column": null,
            "grid_gap": null,
            "grid_row": null,
            "grid_template_areas": null,
            "grid_template_columns": null,
            "grid_template_rows": null,
            "height": null,
            "justify_content": null,
            "justify_items": null,
            "left": null,
            "margin": null,
            "max_height": null,
            "max_width": null,
            "min_height": null,
            "min_width": null,
            "object_fit": null,
            "object_position": null,
            "order": null,
            "overflow": null,
            "overflow_x": null,
            "overflow_y": null,
            "padding": null,
            "right": null,
            "top": null,
            "visibility": null,
            "width": null
          }
        },
        "1e25179524814017b731d2a2cae8463a": {
          "model_module": "@jupyter-widgets/controls",
          "model_module_version": "1.5.0",
          "model_name": "HBoxModel",
          "state": {
            "_dom_classes": [],
            "_model_module": "@jupyter-widgets/controls",
            "_model_module_version": "1.5.0",
            "_model_name": "HBoxModel",
            "_view_count": null,
            "_view_module": "@jupyter-widgets/controls",
            "_view_module_version": "1.5.0",
            "_view_name": "HBoxView",
            "box_style": "",
            "children": [
              "IPY_MODEL_e455cee3a0c74916a5e975a84bc25d40",
              "IPY_MODEL_a074574a608743d18ee6b49f86e5fe8e",
              "IPY_MODEL_882e66e3aeb34c41986e91f6073e49db"
            ],
            "layout": "IPY_MODEL_09755f5a0f3f42e3a2da6ab400adea3e"
          }
        },
        "21222d1de3b04bbf95bb23740028e871": {
          "model_module": "@jupyter-widgets/base",
          "model_module_version": "1.2.0",
          "model_name": "LayoutModel",
          "state": {
            "_model_module": "@jupyter-widgets/base",
            "_model_module_version": "1.2.0",
            "_model_name": "LayoutModel",
            "_view_count": null,
            "_view_module": "@jupyter-widgets/base",
            "_view_module_version": "1.2.0",
            "_view_name": "LayoutView",
            "align_content": null,
            "align_items": null,
            "align_self": null,
            "border": null,
            "bottom": null,
            "display": null,
            "flex": null,
            "flex_flow": null,
            "grid_area": null,
            "grid_auto_columns": null,
            "grid_auto_flow": null,
            "grid_auto_rows": null,
            "grid_column": null,
            "grid_gap": null,
            "grid_row": null,
            "grid_template_areas": null,
            "grid_template_columns": null,
            "grid_template_rows": null,
            "height": null,
            "justify_content": null,
            "justify_items": null,
            "left": null,
            "margin": null,
            "max_height": null,
            "max_width": null,
            "min_height": null,
            "min_width": null,
            "object_fit": null,
            "object_position": null,
            "order": null,
            "overflow": null,
            "overflow_x": null,
            "overflow_y": null,
            "padding": null,
            "right": null,
            "top": null,
            "visibility": null,
            "width": null
          }
        },
        "2132038bff82412eade8d679e99c9fa9": {
          "model_module": "@jupyter-widgets/controls",
          "model_module_version": "1.5.0",
          "model_name": "HTMLModel",
          "state": {
            "_dom_classes": [],
            "_model_module": "@jupyter-widgets/controls",
            "_model_module_version": "1.5.0",
            "_model_name": "HTMLModel",
            "_view_count": null,
            "_view_module": "@jupyter-widgets/controls",
            "_view_module_version": "1.5.0",
            "_view_name": "HTMLView",
            "description": "",
            "description_tooltip": null,
            "layout": "IPY_MODEL_2fadf1577f50425cb10c9ed1a0b70368",
            "placeholder": "​",
            "style": "IPY_MODEL_d067670f9e474b05a5c71a570a99c52f",
            "value": "vocab.txt: 100%"
          }
        },
        "22a6c71bc1ea418bbabf19f92967e9ea": {
          "model_module": "@jupyter-widgets/controls",
          "model_module_version": "1.5.0",
          "model_name": "HTMLModel",
          "state": {
            "_dom_classes": [],
            "_model_module": "@jupyter-widgets/controls",
            "_model_module_version": "1.5.0",
            "_model_name": "HTMLModel",
            "_view_count": null,
            "_view_module": "@jupyter-widgets/controls",
            "_view_module_version": "1.5.0",
            "_view_name": "HTMLView",
            "description": "",
            "description_tooltip": null,
            "layout": "IPY_MODEL_99db0947890544289bf75d1d52d934c1",
            "placeholder": "​",
            "style": "IPY_MODEL_dbe9a77f8472486a8341433fade4972d",
            "value": "config.json: 100%"
          }
        },
        "2574a67d91f34f4aa3221e6a89b69cbe": {
          "model_module": "@jupyter-widgets/base",
          "model_module_version": "1.2.0",
          "model_name": "LayoutModel",
          "state": {
            "_model_module": "@jupyter-widgets/base",
            "_model_module_version": "1.2.0",
            "_model_name": "LayoutModel",
            "_view_count": null,
            "_view_module": "@jupyter-widgets/base",
            "_view_module_version": "1.2.0",
            "_view_name": "LayoutView",
            "align_content": null,
            "align_items": null,
            "align_self": null,
            "border": null,
            "bottom": null,
            "display": null,
            "flex": null,
            "flex_flow": null,
            "grid_area": null,
            "grid_auto_columns": null,
            "grid_auto_flow": null,
            "grid_auto_rows": null,
            "grid_column": null,
            "grid_gap": null,
            "grid_row": null,
            "grid_template_areas": null,
            "grid_template_columns": null,
            "grid_template_rows": null,
            "height": null,
            "justify_content": null,
            "justify_items": null,
            "left": null,
            "margin": null,
            "max_height": null,
            "max_width": null,
            "min_height": null,
            "min_width": null,
            "object_fit": null,
            "object_position": null,
            "order": null,
            "overflow": null,
            "overflow_x": null,
            "overflow_y": null,
            "padding": null,
            "right": null,
            "top": null,
            "visibility": null,
            "width": null
          }
        },
        "2664c28056c64292b14d0bb82e476801": {
          "model_module": "@jupyter-widgets/base",
          "model_module_version": "1.2.0",
          "model_name": "LayoutModel",
          "state": {
            "_model_module": "@jupyter-widgets/base",
            "_model_module_version": "1.2.0",
            "_model_name": "LayoutModel",
            "_view_count": null,
            "_view_module": "@jupyter-widgets/base",
            "_view_module_version": "1.2.0",
            "_view_name": "LayoutView",
            "align_content": null,
            "align_items": null,
            "align_self": null,
            "border": null,
            "bottom": null,
            "display": null,
            "flex": null,
            "flex_flow": null,
            "grid_area": null,
            "grid_auto_columns": null,
            "grid_auto_flow": null,
            "grid_auto_rows": null,
            "grid_column": null,
            "grid_gap": null,
            "grid_row": null,
            "grid_template_areas": null,
            "grid_template_columns": null,
            "grid_template_rows": null,
            "height": null,
            "justify_content": null,
            "justify_items": null,
            "left": null,
            "margin": null,
            "max_height": null,
            "max_width": null,
            "min_height": null,
            "min_width": null,
            "object_fit": null,
            "object_position": null,
            "order": null,
            "overflow": null,
            "overflow_x": null,
            "overflow_y": null,
            "padding": null,
            "right": null,
            "top": null,
            "visibility": null,
            "width": null
          }
        },
        "2888f4b1c62a446daf282a27e355b1bb": {
          "model_module": "@jupyter-widgets/controls",
          "model_module_version": "1.5.0",
          "model_name": "DescriptionStyleModel",
          "state": {
            "_model_module": "@jupyter-widgets/controls",
            "_model_module_version": "1.5.0",
            "_model_name": "DescriptionStyleModel",
            "_view_count": null,
            "_view_module": "@jupyter-widgets/base",
            "_view_module_version": "1.2.0",
            "_view_name": "StyleView",
            "description_width": ""
          }
        },
        "28b56027b04f4d0fa2e61f5d374e4a22": {
          "model_module": "@jupyter-widgets/controls",
          "model_module_version": "1.5.0",
          "model_name": "DescriptionStyleModel",
          "state": {
            "_model_module": "@jupyter-widgets/controls",
            "_model_module_version": "1.5.0",
            "_model_name": "DescriptionStyleModel",
            "_view_count": null,
            "_view_module": "@jupyter-widgets/base",
            "_view_module_version": "1.2.0",
            "_view_name": "StyleView",
            "description_width": ""
          }
        },
        "295e43ed54b14eddaf7e3edbce3e2447": {
          "model_module": "@jupyter-widgets/base",
          "model_module_version": "1.2.0",
          "model_name": "LayoutModel",
          "state": {
            "_model_module": "@jupyter-widgets/base",
            "_model_module_version": "1.2.0",
            "_model_name": "LayoutModel",
            "_view_count": null,
            "_view_module": "@jupyter-widgets/base",
            "_view_module_version": "1.2.0",
            "_view_name": "LayoutView",
            "align_content": null,
            "align_items": null,
            "align_self": null,
            "border": null,
            "bottom": null,
            "display": null,
            "flex": null,
            "flex_flow": null,
            "grid_area": null,
            "grid_auto_columns": null,
            "grid_auto_flow": null,
            "grid_auto_rows": null,
            "grid_column": null,
            "grid_gap": null,
            "grid_row": null,
            "grid_template_areas": null,
            "grid_template_columns": null,
            "grid_template_rows": null,
            "height": null,
            "justify_content": null,
            "justify_items": null,
            "left": null,
            "margin": null,
            "max_height": null,
            "max_width": null,
            "min_height": null,
            "min_width": null,
            "object_fit": null,
            "object_position": null,
            "order": null,
            "overflow": null,
            "overflow_x": null,
            "overflow_y": null,
            "padding": null,
            "right": null,
            "top": null,
            "visibility": null,
            "width": null
          }
        },
        "29608758670e4638a311b6bbef50472a": {
          "model_module": "@jupyter-widgets/base",
          "model_module_version": "1.2.0",
          "model_name": "LayoutModel",
          "state": {
            "_model_module": "@jupyter-widgets/base",
            "_model_module_version": "1.2.0",
            "_model_name": "LayoutModel",
            "_view_count": null,
            "_view_module": "@jupyter-widgets/base",
            "_view_module_version": "1.2.0",
            "_view_name": "LayoutView",
            "align_content": null,
            "align_items": null,
            "align_self": null,
            "border": null,
            "bottom": null,
            "display": null,
            "flex": null,
            "flex_flow": null,
            "grid_area": null,
            "grid_auto_columns": null,
            "grid_auto_flow": null,
            "grid_auto_rows": null,
            "grid_column": null,
            "grid_gap": null,
            "grid_row": null,
            "grid_template_areas": null,
            "grid_template_columns": null,
            "grid_template_rows": null,
            "height": null,
            "justify_content": null,
            "justify_items": null,
            "left": null,
            "margin": null,
            "max_height": null,
            "max_width": null,
            "min_height": null,
            "min_width": null,
            "object_fit": null,
            "object_position": null,
            "order": null,
            "overflow": null,
            "overflow_x": null,
            "overflow_y": null,
            "padding": null,
            "right": null,
            "top": null,
            "visibility": null,
            "width": null
          }
        },
        "2fadf1577f50425cb10c9ed1a0b70368": {
          "model_module": "@jupyter-widgets/base",
          "model_module_version": "1.2.0",
          "model_name": "LayoutModel",
          "state": {
            "_model_module": "@jupyter-widgets/base",
            "_model_module_version": "1.2.0",
            "_model_name": "LayoutModel",
            "_view_count": null,
            "_view_module": "@jupyter-widgets/base",
            "_view_module_version": "1.2.0",
            "_view_name": "LayoutView",
            "align_content": null,
            "align_items": null,
            "align_self": null,
            "border": null,
            "bottom": null,
            "display": null,
            "flex": null,
            "flex_flow": null,
            "grid_area": null,
            "grid_auto_columns": null,
            "grid_auto_flow": null,
            "grid_auto_rows": null,
            "grid_column": null,
            "grid_gap": null,
            "grid_row": null,
            "grid_template_areas": null,
            "grid_template_columns": null,
            "grid_template_rows": null,
            "height": null,
            "justify_content": null,
            "justify_items": null,
            "left": null,
            "margin": null,
            "max_height": null,
            "max_width": null,
            "min_height": null,
            "min_width": null,
            "object_fit": null,
            "object_position": null,
            "order": null,
            "overflow": null,
            "overflow_x": null,
            "overflow_y": null,
            "padding": null,
            "right": null,
            "top": null,
            "visibility": null,
            "width": null
          }
        },
        "32b6e6dcb88a4d6d815db0f4d68e743d": {
          "model_module": "@jupyter-widgets/base",
          "model_module_version": "1.2.0",
          "model_name": "LayoutModel",
          "state": {
            "_model_module": "@jupyter-widgets/base",
            "_model_module_version": "1.2.0",
            "_model_name": "LayoutModel",
            "_view_count": null,
            "_view_module": "@jupyter-widgets/base",
            "_view_module_version": "1.2.0",
            "_view_name": "LayoutView",
            "align_content": null,
            "align_items": null,
            "align_self": null,
            "border": null,
            "bottom": null,
            "display": null,
            "flex": null,
            "flex_flow": null,
            "grid_area": null,
            "grid_auto_columns": null,
            "grid_auto_flow": null,
            "grid_auto_rows": null,
            "grid_column": null,
            "grid_gap": null,
            "grid_row": null,
            "grid_template_areas": null,
            "grid_template_columns": null,
            "grid_template_rows": null,
            "height": null,
            "justify_content": null,
            "justify_items": null,
            "left": null,
            "margin": null,
            "max_height": null,
            "max_width": null,
            "min_height": null,
            "min_width": null,
            "object_fit": null,
            "object_position": null,
            "order": null,
            "overflow": null,
            "overflow_x": null,
            "overflow_y": null,
            "padding": null,
            "right": null,
            "top": null,
            "visibility": null,
            "width": null
          }
        },
        "32dea1d9de444a1caf1306c42deff6d8": {
          "model_module": "@jupyter-widgets/base",
          "model_module_version": "1.2.0",
          "model_name": "LayoutModel",
          "state": {
            "_model_module": "@jupyter-widgets/base",
            "_model_module_version": "1.2.0",
            "_model_name": "LayoutModel",
            "_view_count": null,
            "_view_module": "@jupyter-widgets/base",
            "_view_module_version": "1.2.0",
            "_view_name": "LayoutView",
            "align_content": null,
            "align_items": null,
            "align_self": null,
            "border": null,
            "bottom": null,
            "display": null,
            "flex": null,
            "flex_flow": null,
            "grid_area": null,
            "grid_auto_columns": null,
            "grid_auto_flow": null,
            "grid_auto_rows": null,
            "grid_column": null,
            "grid_gap": null,
            "grid_row": null,
            "grid_template_areas": null,
            "grid_template_columns": null,
            "grid_template_rows": null,
            "height": null,
            "justify_content": null,
            "justify_items": null,
            "left": null,
            "margin": null,
            "max_height": null,
            "max_width": null,
            "min_height": null,
            "min_width": null,
            "object_fit": null,
            "object_position": null,
            "order": null,
            "overflow": null,
            "overflow_x": null,
            "overflow_y": null,
            "padding": null,
            "right": null,
            "top": null,
            "visibility": null,
            "width": null
          }
        },
        "3337645af2524de1a9de9bc3af2f998d": {
          "model_module": "@jupyter-widgets/controls",
          "model_module_version": "1.5.0",
          "model_name": "DescriptionStyleModel",
          "state": {
            "_model_module": "@jupyter-widgets/controls",
            "_model_module_version": "1.5.0",
            "_model_name": "DescriptionStyleModel",
            "_view_count": null,
            "_view_module": "@jupyter-widgets/base",
            "_view_module_version": "1.2.0",
            "_view_name": "StyleView",
            "description_width": ""
          }
        },
        "3795c40a5db64b3d8b8daa2c401185a3": {
          "model_module": "@jupyter-widgets/base",
          "model_module_version": "1.2.0",
          "model_name": "LayoutModel",
          "state": {
            "_model_module": "@jupyter-widgets/base",
            "_model_module_version": "1.2.0",
            "_model_name": "LayoutModel",
            "_view_count": null,
            "_view_module": "@jupyter-widgets/base",
            "_view_module_version": "1.2.0",
            "_view_name": "LayoutView",
            "align_content": null,
            "align_items": null,
            "align_self": null,
            "border": null,
            "bottom": null,
            "display": null,
            "flex": null,
            "flex_flow": null,
            "grid_area": null,
            "grid_auto_columns": null,
            "grid_auto_flow": null,
            "grid_auto_rows": null,
            "grid_column": null,
            "grid_gap": null,
            "grid_row": null,
            "grid_template_areas": null,
            "grid_template_columns": null,
            "grid_template_rows": null,
            "height": null,
            "justify_content": null,
            "justify_items": null,
            "left": null,
            "margin": null,
            "max_height": null,
            "max_width": null,
            "min_height": null,
            "min_width": null,
            "object_fit": null,
            "object_position": null,
            "order": null,
            "overflow": null,
            "overflow_x": null,
            "overflow_y": null,
            "padding": null,
            "right": null,
            "top": null,
            "visibility": null,
            "width": null
          }
        },
        "397be4e2411c43428e4ee9a819725646": {
          "model_module": "@jupyter-widgets/controls",
          "model_module_version": "1.5.0",
          "model_name": "ProgressStyleModel",
          "state": {
            "_model_module": "@jupyter-widgets/controls",
            "_model_module_version": "1.5.0",
            "_model_name": "ProgressStyleModel",
            "_view_count": null,
            "_view_module": "@jupyter-widgets/base",
            "_view_module_version": "1.2.0",
            "_view_name": "StyleView",
            "bar_color": null,
            "description_width": ""
          }
        },
        "40a7c58085fb41ab8d1a5a1b3e9993cb": {
          "model_module": "@jupyter-widgets/base",
          "model_module_version": "1.2.0",
          "model_name": "LayoutModel",
          "state": {
            "_model_module": "@jupyter-widgets/base",
            "_model_module_version": "1.2.0",
            "_model_name": "LayoutModel",
            "_view_count": null,
            "_view_module": "@jupyter-widgets/base",
            "_view_module_version": "1.2.0",
            "_view_name": "LayoutView",
            "align_content": null,
            "align_items": null,
            "align_self": null,
            "border": null,
            "bottom": null,
            "display": null,
            "flex": null,
            "flex_flow": null,
            "grid_area": null,
            "grid_auto_columns": null,
            "grid_auto_flow": null,
            "grid_auto_rows": null,
            "grid_column": null,
            "grid_gap": null,
            "grid_row": null,
            "grid_template_areas": null,
            "grid_template_columns": null,
            "grid_template_rows": null,
            "height": null,
            "justify_content": null,
            "justify_items": null,
            "left": null,
            "margin": null,
            "max_height": null,
            "max_width": null,
            "min_height": null,
            "min_width": null,
            "object_fit": null,
            "object_position": null,
            "order": null,
            "overflow": null,
            "overflow_x": null,
            "overflow_y": null,
            "padding": null,
            "right": null,
            "top": null,
            "visibility": null,
            "width": null
          }
        },
        "43f05981f9724db4be37b6e8321ce431": {
          "model_module": "@jupyter-widgets/base",
          "model_module_version": "1.2.0",
          "model_name": "LayoutModel",
          "state": {
            "_model_module": "@jupyter-widgets/base",
            "_model_module_version": "1.2.0",
            "_model_name": "LayoutModel",
            "_view_count": null,
            "_view_module": "@jupyter-widgets/base",
            "_view_module_version": "1.2.0",
            "_view_name": "LayoutView",
            "align_content": null,
            "align_items": null,
            "align_self": null,
            "border": null,
            "bottom": null,
            "display": null,
            "flex": null,
            "flex_flow": null,
            "grid_area": null,
            "grid_auto_columns": null,
            "grid_auto_flow": null,
            "grid_auto_rows": null,
            "grid_column": null,
            "grid_gap": null,
            "grid_row": null,
            "grid_template_areas": null,
            "grid_template_columns": null,
            "grid_template_rows": null,
            "height": null,
            "justify_content": null,
            "justify_items": null,
            "left": null,
            "margin": null,
            "max_height": null,
            "max_width": null,
            "min_height": null,
            "min_width": null,
            "object_fit": null,
            "object_position": null,
            "order": null,
            "overflow": null,
            "overflow_x": null,
            "overflow_y": null,
            "padding": null,
            "right": null,
            "top": null,
            "visibility": null,
            "width": null
          }
        },
        "446560825a7f429f9d8ef3520c317d83": {
          "model_module": "@jupyter-widgets/controls",
          "model_module_version": "1.5.0",
          "model_name": "ProgressStyleModel",
          "state": {
            "_model_module": "@jupyter-widgets/controls",
            "_model_module_version": "1.5.0",
            "_model_name": "ProgressStyleModel",
            "_view_count": null,
            "_view_module": "@jupyter-widgets/base",
            "_view_module_version": "1.2.0",
            "_view_name": "StyleView",
            "bar_color": null,
            "description_width": ""
          }
        },
        "44d553a36b8741aabbd7a8cea0f0de09": {
          "model_module": "@jupyter-widgets/controls",
          "model_module_version": "1.5.0",
          "model_name": "HTMLModel",
          "state": {
            "_dom_classes": [],
            "_model_module": "@jupyter-widgets/controls",
            "_model_module_version": "1.5.0",
            "_model_name": "HTMLModel",
            "_view_count": null,
            "_view_module": "@jupyter-widgets/controls",
            "_view_module_version": "1.5.0",
            "_view_name": "HTMLView",
            "description": "",
            "description_tooltip": null,
            "layout": "IPY_MODEL_3795c40a5db64b3d8b8daa2c401185a3",
            "placeholder": "​",
            "style": "IPY_MODEL_2888f4b1c62a446daf282a27e355b1bb",
            "value": " 466k/466k [00:00&lt;00:00, 19.5MB/s]"
          }
        },
        "463a985201624a6abb6b877b60f7bf46": {
          "model_module": "@jupyter-widgets/base",
          "model_module_version": "1.2.0",
          "model_name": "LayoutModel",
          "state": {
            "_model_module": "@jupyter-widgets/base",
            "_model_module_version": "1.2.0",
            "_model_name": "LayoutModel",
            "_view_count": null,
            "_view_module": "@jupyter-widgets/base",
            "_view_module_version": "1.2.0",
            "_view_name": "LayoutView",
            "align_content": null,
            "align_items": null,
            "align_self": null,
            "border": null,
            "bottom": null,
            "display": null,
            "flex": null,
            "flex_flow": null,
            "grid_area": null,
            "grid_auto_columns": null,
            "grid_auto_flow": null,
            "grid_auto_rows": null,
            "grid_column": null,
            "grid_gap": null,
            "grid_row": null,
            "grid_template_areas": null,
            "grid_template_columns": null,
            "grid_template_rows": null,
            "height": null,
            "justify_content": null,
            "justify_items": null,
            "left": null,
            "margin": null,
            "max_height": null,
            "max_width": null,
            "min_height": null,
            "min_width": null,
            "object_fit": null,
            "object_position": null,
            "order": null,
            "overflow": null,
            "overflow_x": null,
            "overflow_y": null,
            "padding": null,
            "right": null,
            "top": null,
            "visibility": null,
            "width": null
          }
        },
        "48274cbca6784ee1bfbc5d32f07aa548": {
          "model_module": "@jupyter-widgets/base",
          "model_module_version": "1.2.0",
          "model_name": "LayoutModel",
          "state": {
            "_model_module": "@jupyter-widgets/base",
            "_model_module_version": "1.2.0",
            "_model_name": "LayoutModel",
            "_view_count": null,
            "_view_module": "@jupyter-widgets/base",
            "_view_module_version": "1.2.0",
            "_view_name": "LayoutView",
            "align_content": null,
            "align_items": null,
            "align_self": null,
            "border": null,
            "bottom": null,
            "display": null,
            "flex": null,
            "flex_flow": null,
            "grid_area": null,
            "grid_auto_columns": null,
            "grid_auto_flow": null,
            "grid_auto_rows": null,
            "grid_column": null,
            "grid_gap": null,
            "grid_row": null,
            "grid_template_areas": null,
            "grid_template_columns": null,
            "grid_template_rows": null,
            "height": null,
            "justify_content": null,
            "justify_items": null,
            "left": null,
            "margin": null,
            "max_height": null,
            "max_width": null,
            "min_height": null,
            "min_width": null,
            "object_fit": null,
            "object_position": null,
            "order": null,
            "overflow": null,
            "overflow_x": null,
            "overflow_y": null,
            "padding": null,
            "right": null,
            "top": null,
            "visibility": null,
            "width": null
          }
        },
        "49ea7eb5f80448bb9c72a791d9b183d1": {
          "model_module": "@jupyter-widgets/controls",
          "model_module_version": "1.5.0",
          "model_name": "FloatProgressModel",
          "state": {
            "_dom_classes": [],
            "_model_module": "@jupyter-widgets/controls",
            "_model_module_version": "1.5.0",
            "_model_name": "FloatProgressModel",
            "_view_count": null,
            "_view_module": "@jupyter-widgets/controls",
            "_view_module_version": "1.5.0",
            "_view_name": "ProgressView",
            "bar_style": "success",
            "description": "",
            "description_tooltip": null,
            "layout": "IPY_MODEL_8a5cd27ee00846cd8147010822220bae",
            "max": 570,
            "min": 0,
            "orientation": "horizontal",
            "style": "IPY_MODEL_83fa2602001e400497e7e8d7dcefa769",
            "value": 570
          }
        },
        "5546dd31db3241abb43308aebd871bd7": {
          "model_module": "@jupyter-widgets/base",
          "model_module_version": "1.2.0",
          "model_name": "LayoutModel",
          "state": {
            "_model_module": "@jupyter-widgets/base",
            "_model_module_version": "1.2.0",
            "_model_name": "LayoutModel",
            "_view_count": null,
            "_view_module": "@jupyter-widgets/base",
            "_view_module_version": "1.2.0",
            "_view_name": "LayoutView",
            "align_content": null,
            "align_items": null,
            "align_self": null,
            "border": null,
            "bottom": null,
            "display": null,
            "flex": null,
            "flex_flow": null,
            "grid_area": null,
            "grid_auto_columns": null,
            "grid_auto_flow": null,
            "grid_auto_rows": null,
            "grid_column": null,
            "grid_gap": null,
            "grid_row": null,
            "grid_template_areas": null,
            "grid_template_columns": null,
            "grid_template_rows": null,
            "height": null,
            "justify_content": null,
            "justify_items": null,
            "left": null,
            "margin": null,
            "max_height": null,
            "max_width": null,
            "min_height": null,
            "min_width": null,
            "object_fit": null,
            "object_position": null,
            "order": null,
            "overflow": null,
            "overflow_x": null,
            "overflow_y": null,
            "padding": null,
            "right": null,
            "top": null,
            "visibility": null,
            "width": null
          }
        },
        "57a8007912c04f31b6673fa49c259d05": {
          "model_module": "@jupyter-widgets/controls",
          "model_module_version": "1.5.0",
          "model_name": "HTMLModel",
          "state": {
            "_dom_classes": [],
            "_model_module": "@jupyter-widgets/controls",
            "_model_module_version": "1.5.0",
            "_model_name": "HTMLModel",
            "_view_count": null,
            "_view_module": "@jupyter-widgets/controls",
            "_view_module_version": "1.5.0",
            "_view_name": "HTMLView",
            "description": "",
            "description_tooltip": null,
            "layout": "IPY_MODEL_fcab55e643b244a4aae7b810deb2518a",
            "placeholder": "​",
            "style": "IPY_MODEL_c29945d41c634cb29a4e54bf5bbe40db",
            "value": " 481/481 [00:00&lt;00:00, 43.6kB/s]"
          }
        },
        "5c89df391b31414ab7a689965c405c5d": {
          "model_module": "@jupyter-widgets/controls",
          "model_module_version": "1.5.0",
          "model_name": "DescriptionStyleModel",
          "state": {
            "_model_module": "@jupyter-widgets/controls",
            "_model_module_version": "1.5.0",
            "_model_name": "DescriptionStyleModel",
            "_view_count": null,
            "_view_module": "@jupyter-widgets/base",
            "_view_module_version": "1.2.0",
            "_view_name": "StyleView",
            "description_width": ""
          }
        },
        "60fda071776b4df7b34a2b3753b448d0": {
          "model_module": "@jupyter-widgets/controls",
          "model_module_version": "1.5.0",
          "model_name": "DescriptionStyleModel",
          "state": {
            "_model_module": "@jupyter-widgets/controls",
            "_model_module_version": "1.5.0",
            "_model_name": "DescriptionStyleModel",
            "_view_count": null,
            "_view_module": "@jupyter-widgets/base",
            "_view_module_version": "1.2.0",
            "_view_name": "StyleView",
            "description_width": ""
          }
        },
        "6a73aadadf8e4f69b328167deaf0e359": {
          "model_module": "@jupyter-widgets/controls",
          "model_module_version": "1.5.0",
          "model_name": "HTMLModel",
          "state": {
            "_dom_classes": [],
            "_model_module": "@jupyter-widgets/controls",
            "_model_module_version": "1.5.0",
            "_model_name": "HTMLModel",
            "_view_count": null,
            "_view_module": "@jupyter-widgets/controls",
            "_view_module_version": "1.5.0",
            "_view_name": "HTMLView",
            "description": "",
            "description_tooltip": null,
            "layout": "IPY_MODEL_40a7c58085fb41ab8d1a5a1b3e9993cb",
            "placeholder": "​",
            "style": "IPY_MODEL_7c8d229176934682a6a923c0a6b56e55",
            "value": "tokenizer.json: 100%"
          }
        },
        "6b0e00685da34c92b5d02f000c6dbad3": {
          "model_module": "@jupyter-widgets/base",
          "model_module_version": "1.2.0",
          "model_name": "LayoutModel",
          "state": {
            "_model_module": "@jupyter-widgets/base",
            "_model_module_version": "1.2.0",
            "_model_name": "LayoutModel",
            "_view_count": null,
            "_view_module": "@jupyter-widgets/base",
            "_view_module_version": "1.2.0",
            "_view_name": "LayoutView",
            "align_content": null,
            "align_items": null,
            "align_self": null,
            "border": null,
            "bottom": null,
            "display": null,
            "flex": null,
            "flex_flow": null,
            "grid_area": null,
            "grid_auto_columns": null,
            "grid_auto_flow": null,
            "grid_auto_rows": null,
            "grid_column": null,
            "grid_gap": null,
            "grid_row": null,
            "grid_template_areas": null,
            "grid_template_columns": null,
            "grid_template_rows": null,
            "height": null,
            "justify_content": null,
            "justify_items": null,
            "left": null,
            "margin": null,
            "max_height": null,
            "max_width": null,
            "min_height": null,
            "min_width": null,
            "object_fit": null,
            "object_position": null,
            "order": null,
            "overflow": null,
            "overflow_x": null,
            "overflow_y": null,
            "padding": null,
            "right": null,
            "top": null,
            "visibility": null,
            "width": null
          }
        },
        "6b86036714904cb0a63e787e09bace00": {
          "model_module": "@jupyter-widgets/controls",
          "model_module_version": "1.5.0",
          "model_name": "DescriptionStyleModel",
          "state": {
            "_model_module": "@jupyter-widgets/controls",
            "_model_module_version": "1.5.0",
            "_model_name": "DescriptionStyleModel",
            "_view_count": null,
            "_view_module": "@jupyter-widgets/base",
            "_view_module_version": "1.2.0",
            "_view_name": "StyleView",
            "description_width": ""
          }
        },
        "72011bd92adc47a3920d93a411dba602": {
          "model_module": "@jupyter-widgets/base",
          "model_module_version": "1.2.0",
          "model_name": "LayoutModel",
          "state": {
            "_model_module": "@jupyter-widgets/base",
            "_model_module_version": "1.2.0",
            "_model_name": "LayoutModel",
            "_view_count": null,
            "_view_module": "@jupyter-widgets/base",
            "_view_module_version": "1.2.0",
            "_view_name": "LayoutView",
            "align_content": null,
            "align_items": null,
            "align_self": null,
            "border": null,
            "bottom": null,
            "display": null,
            "flex": null,
            "flex_flow": null,
            "grid_area": null,
            "grid_auto_columns": null,
            "grid_auto_flow": null,
            "grid_auto_rows": null,
            "grid_column": null,
            "grid_gap": null,
            "grid_row": null,
            "grid_template_areas": null,
            "grid_template_columns": null,
            "grid_template_rows": null,
            "height": null,
            "justify_content": null,
            "justify_items": null,
            "left": null,
            "margin": null,
            "max_height": null,
            "max_width": null,
            "min_height": null,
            "min_width": null,
            "object_fit": null,
            "object_position": null,
            "order": null,
            "overflow": null,
            "overflow_x": null,
            "overflow_y": null,
            "padding": null,
            "right": null,
            "top": null,
            "visibility": null,
            "width": null
          }
        },
        "7267e8b6d20b4f86b4811785769e50e4": {
          "model_module": "@jupyter-widgets/controls",
          "model_module_version": "1.5.0",
          "model_name": "FloatProgressModel",
          "state": {
            "_dom_classes": [],
            "_model_module": "@jupyter-widgets/controls",
            "_model_module_version": "1.5.0",
            "_model_name": "FloatProgressModel",
            "_view_count": null,
            "_view_module": "@jupyter-widgets/controls",
            "_view_module_version": "1.5.0",
            "_view_name": "ProgressView",
            "bar_style": "success",
            "description": "",
            "description_tooltip": null,
            "layout": "IPY_MODEL_aeac84b9e7334478926f6b68e99aa0a7",
            "max": 481,
            "min": 0,
            "orientation": "horizontal",
            "style": "IPY_MODEL_446560825a7f429f9d8ef3520c317d83",
            "value": 481
          }
        },
        "78743fab073f460ab23335d5ccc95425": {
          "model_module": "@jupyter-widgets/controls",
          "model_module_version": "1.5.0",
          "model_name": "ProgressStyleModel",
          "state": {
            "_model_module": "@jupyter-widgets/controls",
            "_model_module_version": "1.5.0",
            "_model_name": "ProgressStyleModel",
            "_view_count": null,
            "_view_module": "@jupyter-widgets/base",
            "_view_module_version": "1.2.0",
            "_view_name": "StyleView",
            "bar_color": null,
            "description_width": ""
          }
        },
        "78c42da109a14f56ab88067b08b6a695": {
          "model_module": "@jupyter-widgets/base",
          "model_module_version": "1.2.0",
          "model_name": "LayoutModel",
          "state": {
            "_model_module": "@jupyter-widgets/base",
            "_model_module_version": "1.2.0",
            "_model_name": "LayoutModel",
            "_view_count": null,
            "_view_module": "@jupyter-widgets/base",
            "_view_module_version": "1.2.0",
            "_view_name": "LayoutView",
            "align_content": null,
            "align_items": null,
            "align_self": null,
            "border": null,
            "bottom": null,
            "display": null,
            "flex": null,
            "flex_flow": null,
            "grid_area": null,
            "grid_auto_columns": null,
            "grid_auto_flow": null,
            "grid_auto_rows": null,
            "grid_column": null,
            "grid_gap": null,
            "grid_row": null,
            "grid_template_areas": null,
            "grid_template_columns": null,
            "grid_template_rows": null,
            "height": null,
            "justify_content": null,
            "justify_items": null,
            "left": null,
            "margin": null,
            "max_height": null,
            "max_width": null,
            "min_height": null,
            "min_width": null,
            "object_fit": null,
            "object_position": null,
            "order": null,
            "overflow": null,
            "overflow_x": null,
            "overflow_y": null,
            "padding": null,
            "right": null,
            "top": null,
            "visibility": null,
            "width": null
          }
        },
        "7c8d229176934682a6a923c0a6b56e55": {
          "model_module": "@jupyter-widgets/controls",
          "model_module_version": "1.5.0",
          "model_name": "DescriptionStyleModel",
          "state": {
            "_model_module": "@jupyter-widgets/controls",
            "_model_module_version": "1.5.0",
            "_model_name": "DescriptionStyleModel",
            "_view_count": null,
            "_view_module": "@jupyter-widgets/base",
            "_view_module_version": "1.2.0",
            "_view_name": "StyleView",
            "description_width": ""
          }
        },
        "83fa2602001e400497e7e8d7dcefa769": {
          "model_module": "@jupyter-widgets/controls",
          "model_module_version": "1.5.0",
          "model_name": "ProgressStyleModel",
          "state": {
            "_model_module": "@jupyter-widgets/controls",
            "_model_module_version": "1.5.0",
            "_model_name": "ProgressStyleModel",
            "_view_count": null,
            "_view_module": "@jupyter-widgets/base",
            "_view_module_version": "1.2.0",
            "_view_name": "StyleView",
            "bar_color": null,
            "description_width": ""
          }
        },
        "85afbae2c0a144f48ba4fec6c14da40d": {
          "model_module": "@jupyter-widgets/base",
          "model_module_version": "1.2.0",
          "model_name": "LayoutModel",
          "state": {
            "_model_module": "@jupyter-widgets/base",
            "_model_module_version": "1.2.0",
            "_model_name": "LayoutModel",
            "_view_count": null,
            "_view_module": "@jupyter-widgets/base",
            "_view_module_version": "1.2.0",
            "_view_name": "LayoutView",
            "align_content": null,
            "align_items": null,
            "align_self": null,
            "border": null,
            "bottom": null,
            "display": null,
            "flex": null,
            "flex_flow": null,
            "grid_area": null,
            "grid_auto_columns": null,
            "grid_auto_flow": null,
            "grid_auto_rows": null,
            "grid_column": null,
            "grid_gap": null,
            "grid_row": null,
            "grid_template_areas": null,
            "grid_template_columns": null,
            "grid_template_rows": null,
            "height": null,
            "justify_content": null,
            "justify_items": null,
            "left": null,
            "margin": null,
            "max_height": null,
            "max_width": null,
            "min_height": null,
            "min_width": null,
            "object_fit": null,
            "object_position": null,
            "order": null,
            "overflow": null,
            "overflow_x": null,
            "overflow_y": null,
            "padding": null,
            "right": null,
            "top": null,
            "visibility": null,
            "width": null
          }
        },
        "879cdb365bd74981ac2c540c78494c35": {
          "model_module": "@jupyter-widgets/controls",
          "model_module_version": "1.5.0",
          "model_name": "HTMLModel",
          "state": {
            "_dom_classes": [],
            "_model_module": "@jupyter-widgets/controls",
            "_model_module_version": "1.5.0",
            "_model_name": "HTMLModel",
            "_view_count": null,
            "_view_module": "@jupyter-widgets/controls",
            "_view_module_version": "1.5.0",
            "_view_name": "HTMLView",
            "description": "",
            "description_tooltip": null,
            "layout": "IPY_MODEL_0206152f391443d8bac2b607a44bc554",
            "placeholder": "​",
            "style": "IPY_MODEL_9b0a881a649142f586a92ecbbc2de45f",
            "value": " 1.36M/1.36M [00:00&lt;00:00, 17.3MB/s]"
          }
        },
        "88029312bf524ad2adca6ac87b8d4b14": {
          "model_module": "@jupyter-widgets/controls",
          "model_module_version": "1.5.0",
          "model_name": "HTMLModel",
          "state": {
            "_dom_classes": [],
            "_model_module": "@jupyter-widgets/controls",
            "_model_module_version": "1.5.0",
            "_model_name": "HTMLModel",
            "_view_count": null,
            "_view_module": "@jupyter-widgets/controls",
            "_view_module_version": "1.5.0",
            "_view_name": "HTMLView",
            "description": "",
            "description_tooltip": null,
            "layout": "IPY_MODEL_166873fc57b74883ad6545047a97d265",
            "placeholder": "​",
            "style": "IPY_MODEL_60fda071776b4df7b34a2b3753b448d0",
            "value": " 899k/899k [00:00&lt;00:00, 4.65MB/s]"
          }
        },
        "882e66e3aeb34c41986e91f6073e49db": {
          "model_module": "@jupyter-widgets/controls",
          "model_module_version": "1.5.0",
          "model_name": "HTMLModel",
          "state": {
            "_dom_classes": [],
            "_model_module": "@jupyter-widgets/controls",
            "_model_module_version": "1.5.0",
            "_model_name": "HTMLModel",
            "_view_count": null,
            "_view_module": "@jupyter-widgets/controls",
            "_view_module_version": "1.5.0",
            "_view_name": "HTMLView",
            "description": "",
            "description_tooltip": null,
            "layout": "IPY_MODEL_f34c1b81e7c844719acbde7bf17f816a",
            "placeholder": "​",
            "style": "IPY_MODEL_abcbd3c3af9148ae8a71747924d31b81",
            "value": " 25.0/25.0 [00:00&lt;00:00, 915B/s]"
          }
        },
        "88bffc2e05914821b9b4a1e03e5e1812": {
          "model_module": "@jupyter-widgets/controls",
          "model_module_version": "1.5.0",
          "model_name": "HBoxModel",
          "state": {
            "_dom_classes": [],
            "_model_module": "@jupyter-widgets/controls",
            "_model_module_version": "1.5.0",
            "_model_name": "HBoxModel",
            "_view_count": null,
            "_view_module": "@jupyter-widgets/controls",
            "_view_module_version": "1.5.0",
            "_view_name": "HBoxView",
            "box_style": "",
            "children": [
              "IPY_MODEL_e16537b55335499db7a80915a25c4956",
              "IPY_MODEL_be57e953d8a543218213ef0c269bfccf",
              "IPY_MODEL_879cdb365bd74981ac2c540c78494c35"
            ],
            "layout": "IPY_MODEL_1c8af2050c69497389a78ed5211afe74"
          }
        },
        "89ead500f7154d23be9a066d6567ba27": {
          "model_module": "@jupyter-widgets/controls",
          "model_module_version": "1.5.0",
          "model_name": "FloatProgressModel",
          "state": {
            "_dom_classes": [],
            "_model_module": "@jupyter-widgets/controls",
            "_model_module_version": "1.5.0",
            "_model_name": "FloatProgressModel",
            "_view_count": null,
            "_view_module": "@jupyter-widgets/controls",
            "_view_module_version": "1.5.0",
            "_view_name": "ProgressView",
            "bar_style": "success",
            "description": "",
            "description_tooltip": null,
            "layout": "IPY_MODEL_21222d1de3b04bbf95bb23740028e871",
            "max": 231508,
            "min": 0,
            "orientation": "horizontal",
            "style": "IPY_MODEL_07a1aa1aabb6462aaf7b6ec9579dba7c",
            "value": 231508
          }
        },
        "8a5cd27ee00846cd8147010822220bae": {
          "model_module": "@jupyter-widgets/base",
          "model_module_version": "1.2.0",
          "model_name": "LayoutModel",
          "state": {
            "_model_module": "@jupyter-widgets/base",
            "_model_module_version": "1.2.0",
            "_model_name": "LayoutModel",
            "_view_count": null,
            "_view_module": "@jupyter-widgets/base",
            "_view_module_version": "1.2.0",
            "_view_name": "LayoutView",
            "align_content": null,
            "align_items": null,
            "align_self": null,
            "border": null,
            "bottom": null,
            "display": null,
            "flex": null,
            "flex_flow": null,
            "grid_area": null,
            "grid_auto_columns": null,
            "grid_auto_flow": null,
            "grid_auto_rows": null,
            "grid_column": null,
            "grid_gap": null,
            "grid_row": null,
            "grid_template_areas": null,
            "grid_template_columns": null,
            "grid_template_rows": null,
            "height": null,
            "justify_content": null,
            "justify_items": null,
            "left": null,
            "margin": null,
            "max_height": null,
            "max_width": null,
            "min_height": null,
            "min_width": null,
            "object_fit": null,
            "object_position": null,
            "order": null,
            "overflow": null,
            "overflow_x": null,
            "overflow_y": null,
            "padding": null,
            "right": null,
            "top": null,
            "visibility": null,
            "width": null
          }
        },
        "99db0947890544289bf75d1d52d934c1": {
          "model_module": "@jupyter-widgets/base",
          "model_module_version": "1.2.0",
          "model_name": "LayoutModel",
          "state": {
            "_model_module": "@jupyter-widgets/base",
            "_model_module_version": "1.2.0",
            "_model_name": "LayoutModel",
            "_view_count": null,
            "_view_module": "@jupyter-widgets/base",
            "_view_module_version": "1.2.0",
            "_view_name": "LayoutView",
            "align_content": null,
            "align_items": null,
            "align_self": null,
            "border": null,
            "bottom": null,
            "display": null,
            "flex": null,
            "flex_flow": null,
            "grid_area": null,
            "grid_auto_columns": null,
            "grid_auto_flow": null,
            "grid_auto_rows": null,
            "grid_column": null,
            "grid_gap": null,
            "grid_row": null,
            "grid_template_areas": null,
            "grid_template_columns": null,
            "grid_template_rows": null,
            "height": null,
            "justify_content": null,
            "justify_items": null,
            "left": null,
            "margin": null,
            "max_height": null,
            "max_width": null,
            "min_height": null,
            "min_width": null,
            "object_fit": null,
            "object_position": null,
            "order": null,
            "overflow": null,
            "overflow_x": null,
            "overflow_y": null,
            "padding": null,
            "right": null,
            "top": null,
            "visibility": null,
            "width": null
          }
        },
        "9b0a881a649142f586a92ecbbc2de45f": {
          "model_module": "@jupyter-widgets/controls",
          "model_module_version": "1.5.0",
          "model_name": "DescriptionStyleModel",
          "state": {
            "_model_module": "@jupyter-widgets/controls",
            "_model_module_version": "1.5.0",
            "_model_name": "DescriptionStyleModel",
            "_view_count": null,
            "_view_module": "@jupyter-widgets/base",
            "_view_module_version": "1.2.0",
            "_view_name": "StyleView",
            "description_width": ""
          }
        },
        "9c9ba5a37ec44ced9b1a3bab27585b18": {
          "model_module": "@jupyter-widgets/controls",
          "model_module_version": "1.5.0",
          "model_name": "HBoxModel",
          "state": {
            "_dom_classes": [],
            "_model_module": "@jupyter-widgets/controls",
            "_model_module_version": "1.5.0",
            "_model_name": "HBoxModel",
            "_view_count": null,
            "_view_module": "@jupyter-widgets/controls",
            "_view_module_version": "1.5.0",
            "_view_name": "HBoxView",
            "box_style": "",
            "children": [
              "IPY_MODEL_22a6c71bc1ea418bbabf19f92967e9ea",
              "IPY_MODEL_49ea7eb5f80448bb9c72a791d9b183d1",
              "IPY_MODEL_da465a76ed4a48749f821147af4951bc"
            ],
            "layout": "IPY_MODEL_72011bd92adc47a3920d93a411dba602"
          }
        },
        "9ceb99487f074b049c78e4a022fe6f97": {
          "model_module": "@jupyter-widgets/controls",
          "model_module_version": "1.5.0",
          "model_name": "HTMLModel",
          "state": {
            "_dom_classes": [],
            "_model_module": "@jupyter-widgets/controls",
            "_model_module_version": "1.5.0",
            "_model_name": "HTMLModel",
            "_view_count": null,
            "_view_module": "@jupyter-widgets/controls",
            "_view_module_version": "1.5.0",
            "_view_name": "HTMLView",
            "description": "",
            "description_tooltip": null,
            "layout": "IPY_MODEL_a2900c9e372b4976b8048105ec31e314",
            "placeholder": "​",
            "style": "IPY_MODEL_6b86036714904cb0a63e787e09bace00",
            "value": "vocab.json: 100%"
          }
        },
        "9db1c710a9d64d75ab74971c726feba7": {
          "model_module": "@jupyter-widgets/base",
          "model_module_version": "1.2.0",
          "model_name": "LayoutModel",
          "state": {
            "_model_module": "@jupyter-widgets/base",
            "_model_module_version": "1.2.0",
            "_model_name": "LayoutModel",
            "_view_count": null,
            "_view_module": "@jupyter-widgets/base",
            "_view_module_version": "1.2.0",
            "_view_name": "LayoutView",
            "align_content": null,
            "align_items": null,
            "align_self": null,
            "border": null,
            "bottom": null,
            "display": null,
            "flex": null,
            "flex_flow": null,
            "grid_area": null,
            "grid_auto_columns": null,
            "grid_auto_flow": null,
            "grid_auto_rows": null,
            "grid_column": null,
            "grid_gap": null,
            "grid_row": null,
            "grid_template_areas": null,
            "grid_template_columns": null,
            "grid_template_rows": null,
            "height": null,
            "justify_content": null,
            "justify_items": null,
            "left": null,
            "margin": null,
            "max_height": null,
            "max_width": null,
            "min_height": null,
            "min_width": null,
            "object_fit": null,
            "object_position": null,
            "order": null,
            "overflow": null,
            "overflow_x": null,
            "overflow_y": null,
            "padding": null,
            "right": null,
            "top": null,
            "visibility": null,
            "width": null
          }
        },
        "a074574a608743d18ee6b49f86e5fe8e": {
          "model_module": "@jupyter-widgets/controls",
          "model_module_version": "1.5.0",
          "model_name": "FloatProgressModel",
          "state": {
            "_dom_classes": [],
            "_model_module": "@jupyter-widgets/controls",
            "_model_module_version": "1.5.0",
            "_model_name": "FloatProgressModel",
            "_view_count": null,
            "_view_module": "@jupyter-widgets/controls",
            "_view_module_version": "1.5.0",
            "_view_name": "ProgressView",
            "bar_style": "success",
            "description": "",
            "description_tooltip": null,
            "layout": "IPY_MODEL_1a6f0b78b4474ab4a16cf495ccec526c",
            "max": 25,
            "min": 0,
            "orientation": "horizontal",
            "style": "IPY_MODEL_397be4e2411c43428e4ee9a819725646",
            "value": 25
          }
        },
        "a1862778952e4f689b12884a66b320be": {
          "model_module": "@jupyter-widgets/controls",
          "model_module_version": "1.5.0",
          "model_name": "ProgressStyleModel",
          "state": {
            "_model_module": "@jupyter-widgets/controls",
            "_model_module_version": "1.5.0",
            "_model_name": "ProgressStyleModel",
            "_view_count": null,
            "_view_module": "@jupyter-widgets/base",
            "_view_module_version": "1.2.0",
            "_view_name": "StyleView",
            "bar_color": null,
            "description_width": ""
          }
        },
        "a2900c9e372b4976b8048105ec31e314": {
          "model_module": "@jupyter-widgets/base",
          "model_module_version": "1.2.0",
          "model_name": "LayoutModel",
          "state": {
            "_model_module": "@jupyter-widgets/base",
            "_model_module_version": "1.2.0",
            "_model_name": "LayoutModel",
            "_view_count": null,
            "_view_module": "@jupyter-widgets/base",
            "_view_module_version": "1.2.0",
            "_view_name": "LayoutView",
            "align_content": null,
            "align_items": null,
            "align_self": null,
            "border": null,
            "bottom": null,
            "display": null,
            "flex": null,
            "flex_flow": null,
            "grid_area": null,
            "grid_auto_columns": null,
            "grid_auto_flow": null,
            "grid_auto_rows": null,
            "grid_column": null,
            "grid_gap": null,
            "grid_row": null,
            "grid_template_areas": null,
            "grid_template_columns": null,
            "grid_template_rows": null,
            "height": null,
            "justify_content": null,
            "justify_items": null,
            "left": null,
            "margin": null,
            "max_height": null,
            "max_width": null,
            "min_height": null,
            "min_width": null,
            "object_fit": null,
            "object_position": null,
            "order": null,
            "overflow": null,
            "overflow_x": null,
            "overflow_y": null,
            "padding": null,
            "right": null,
            "top": null,
            "visibility": null,
            "width": null
          }
        },
        "abcbd3c3af9148ae8a71747924d31b81": {
          "model_module": "@jupyter-widgets/controls",
          "model_module_version": "1.5.0",
          "model_name": "DescriptionStyleModel",
          "state": {
            "_model_module": "@jupyter-widgets/controls",
            "_model_module_version": "1.5.0",
            "_model_name": "DescriptionStyleModel",
            "_view_count": null,
            "_view_module": "@jupyter-widgets/base",
            "_view_module_version": "1.2.0",
            "_view_name": "StyleView",
            "description_width": ""
          }
        },
        "adc6c5c2ec434d29bdbdbc53daa75da0": {
          "model_module": "@jupyter-widgets/controls",
          "model_module_version": "1.5.0",
          "model_name": "ProgressStyleModel",
          "state": {
            "_model_module": "@jupyter-widgets/controls",
            "_model_module_version": "1.5.0",
            "_model_name": "ProgressStyleModel",
            "_view_count": null,
            "_view_module": "@jupyter-widgets/base",
            "_view_module_version": "1.2.0",
            "_view_name": "StyleView",
            "bar_color": null,
            "description_width": ""
          }
        },
        "ae3bbae787114c65b76ee2104b26568e": {
          "model_module": "@jupyter-widgets/base",
          "model_module_version": "1.2.0",
          "model_name": "LayoutModel",
          "state": {
            "_model_module": "@jupyter-widgets/base",
            "_model_module_version": "1.2.0",
            "_model_name": "LayoutModel",
            "_view_count": null,
            "_view_module": "@jupyter-widgets/base",
            "_view_module_version": "1.2.0",
            "_view_name": "LayoutView",
            "align_content": null,
            "align_items": null,
            "align_self": null,
            "border": null,
            "bottom": null,
            "display": null,
            "flex": null,
            "flex_flow": null,
            "grid_area": null,
            "grid_auto_columns": null,
            "grid_auto_flow": null,
            "grid_auto_rows": null,
            "grid_column": null,
            "grid_gap": null,
            "grid_row": null,
            "grid_template_areas": null,
            "grid_template_columns": null,
            "grid_template_rows": null,
            "height": null,
            "justify_content": null,
            "justify_items": null,
            "left": null,
            "margin": null,
            "max_height": null,
            "max_width": null,
            "min_height": null,
            "min_width": null,
            "object_fit": null,
            "object_position": null,
            "order": null,
            "overflow": null,
            "overflow_x": null,
            "overflow_y": null,
            "padding": null,
            "right": null,
            "top": null,
            "visibility": null,
            "width": null
          }
        },
        "aeac84b9e7334478926f6b68e99aa0a7": {
          "model_module": "@jupyter-widgets/base",
          "model_module_version": "1.2.0",
          "model_name": "LayoutModel",
          "state": {
            "_model_module": "@jupyter-widgets/base",
            "_model_module_version": "1.2.0",
            "_model_name": "LayoutModel",
            "_view_count": null,
            "_view_module": "@jupyter-widgets/base",
            "_view_module_version": "1.2.0",
            "_view_name": "LayoutView",
            "align_content": null,
            "align_items": null,
            "align_self": null,
            "border": null,
            "bottom": null,
            "display": null,
            "flex": null,
            "flex_flow": null,
            "grid_area": null,
            "grid_auto_columns": null,
            "grid_auto_flow": null,
            "grid_auto_rows": null,
            "grid_column": null,
            "grid_gap": null,
            "grid_row": null,
            "grid_template_areas": null,
            "grid_template_columns": null,
            "grid_template_rows": null,
            "height": null,
            "justify_content": null,
            "justify_items": null,
            "left": null,
            "margin": null,
            "max_height": null,
            "max_width": null,
            "min_height": null,
            "min_width": null,
            "object_fit": null,
            "object_position": null,
            "order": null,
            "overflow": null,
            "overflow_x": null,
            "overflow_y": null,
            "padding": null,
            "right": null,
            "top": null,
            "visibility": null,
            "width": null
          }
        },
        "af887b5edcb84b24925a0c9628438f21": {
          "model_module": "@jupyter-widgets/controls",
          "model_module_version": "1.5.0",
          "model_name": "HBoxModel",
          "state": {
            "_dom_classes": [],
            "_model_module": "@jupyter-widgets/controls",
            "_model_module_version": "1.5.0",
            "_model_name": "HBoxModel",
            "_view_count": null,
            "_view_module": "@jupyter-widgets/controls",
            "_view_module_version": "1.5.0",
            "_view_name": "HBoxView",
            "box_style": "",
            "children": [
              "IPY_MODEL_f82c8adc28ab44dfa2ef7eeedbccc275",
              "IPY_MODEL_f6304a9ed0254808be4cc88f8242ddd1",
              "IPY_MODEL_f3121c1f27af4fa4b23bf61137b63c5b"
            ],
            "layout": "IPY_MODEL_85afbae2c0a144f48ba4fec6c14da40d"
          }
        },
        "bb7da9a2f3ce4861aeaad6e28216e3f9": {
          "model_module": "@jupyter-widgets/controls",
          "model_module_version": "1.5.0",
          "model_name": "HTMLModel",
          "state": {
            "_dom_classes": [],
            "_model_module": "@jupyter-widgets/controls",
            "_model_module_version": "1.5.0",
            "_model_name": "HTMLModel",
            "_view_count": null,
            "_view_module": "@jupyter-widgets/controls",
            "_view_module_version": "1.5.0",
            "_view_name": "HTMLView",
            "description": "",
            "description_tooltip": null,
            "layout": "IPY_MODEL_2664c28056c64292b14d0bb82e476801",
            "placeholder": "​",
            "style": "IPY_MODEL_28b56027b04f4d0fa2e61f5d374e4a22",
            "value": " 48.0/48.0 [00:00&lt;00:00, 4.04kB/s]"
          }
        },
        "bd333de581ae4a7d95fdbddfc77cbf38": {
          "model_module": "@jupyter-widgets/controls",
          "model_module_version": "1.5.0",
          "model_name": "ProgressStyleModel",
          "state": {
            "_model_module": "@jupyter-widgets/controls",
            "_model_module_version": "1.5.0",
            "_model_name": "ProgressStyleModel",
            "_view_count": null,
            "_view_module": "@jupyter-widgets/base",
            "_view_module_version": "1.2.0",
            "_view_name": "StyleView",
            "bar_color": null,
            "description_width": ""
          }
        },
        "be57e953d8a543218213ef0c269bfccf": {
          "model_module": "@jupyter-widgets/controls",
          "model_module_version": "1.5.0",
          "model_name": "FloatProgressModel",
          "state": {
            "_dom_classes": [],
            "_model_module": "@jupyter-widgets/controls",
            "_model_module_version": "1.5.0",
            "_model_name": "FloatProgressModel",
            "_view_count": null,
            "_view_module": "@jupyter-widgets/controls",
            "_view_module_version": "1.5.0",
            "_view_name": "ProgressView",
            "bar_style": "success",
            "description": "",
            "description_tooltip": null,
            "layout": "IPY_MODEL_463a985201624a6abb6b877b60f7bf46",
            "max": 1355863,
            "min": 0,
            "orientation": "horizontal",
            "style": "IPY_MODEL_78743fab073f460ab23335d5ccc95425",
            "value": 1355863
          }
        },
        "c0089555549f4e19a911d71a81b912d5": {
          "model_module": "@jupyter-widgets/controls",
          "model_module_version": "1.5.0",
          "model_name": "HBoxModel",
          "state": {
            "_dom_classes": [],
            "_model_module": "@jupyter-widgets/controls",
            "_model_module_version": "1.5.0",
            "_model_name": "HBoxModel",
            "_view_count": null,
            "_view_module": "@jupyter-widgets/controls",
            "_view_module_version": "1.5.0",
            "_view_name": "HBoxView",
            "box_style": "",
            "children": [
              "IPY_MODEL_9ceb99487f074b049c78e4a022fe6f97",
              "IPY_MODEL_ce11361468ea4d50a41e3adf2f1073c2",
              "IPY_MODEL_88029312bf524ad2adca6ac87b8d4b14"
            ],
            "layout": "IPY_MODEL_ee77bf4612fb4b2faccdfa4455f9d271"
          }
        },
        "c0b8d93f43f644dbbdad8d658ecf589f": {
          "model_module": "@jupyter-widgets/base",
          "model_module_version": "1.2.0",
          "model_name": "LayoutModel",
          "state": {
            "_model_module": "@jupyter-widgets/base",
            "_model_module_version": "1.2.0",
            "_model_name": "LayoutModel",
            "_view_count": null,
            "_view_module": "@jupyter-widgets/base",
            "_view_module_version": "1.2.0",
            "_view_name": "LayoutView",
            "align_content": null,
            "align_items": null,
            "align_self": null,
            "border": null,
            "bottom": null,
            "display": null,
            "flex": null,
            "flex_flow": null,
            "grid_area": null,
            "grid_auto_columns": null,
            "grid_auto_flow": null,
            "grid_auto_rows": null,
            "grid_column": null,
            "grid_gap": null,
            "grid_row": null,
            "grid_template_areas": null,
            "grid_template_columns": null,
            "grid_template_rows": null,
            "height": null,
            "justify_content": null,
            "justify_items": null,
            "left": null,
            "margin": null,
            "max_height": null,
            "max_width": null,
            "min_height": null,
            "min_width": null,
            "object_fit": null,
            "object_position": null,
            "order": null,
            "overflow": null,
            "overflow_x": null,
            "overflow_y": null,
            "padding": null,
            "right": null,
            "top": null,
            "visibility": null,
            "width": null
          }
        },
        "c29945d41c634cb29a4e54bf5bbe40db": {
          "model_module": "@jupyter-widgets/controls",
          "model_module_version": "1.5.0",
          "model_name": "DescriptionStyleModel",
          "state": {
            "_model_module": "@jupyter-widgets/controls",
            "_model_module_version": "1.5.0",
            "_model_name": "DescriptionStyleModel",
            "_view_count": null,
            "_view_module": "@jupyter-widgets/base",
            "_view_module_version": "1.2.0",
            "_view_name": "StyleView",
            "description_width": ""
          }
        },
        "c654f23fa1984e00b1f400763e9736e1": {
          "model_module": "@jupyter-widgets/controls",
          "model_module_version": "1.5.0",
          "model_name": "HTMLModel",
          "state": {
            "_dom_classes": [],
            "_model_module": "@jupyter-widgets/controls",
            "_model_module_version": "1.5.0",
            "_model_name": "HTMLModel",
            "_view_count": null,
            "_view_module": "@jupyter-widgets/controls",
            "_view_module_version": "1.5.0",
            "_view_name": "HTMLView",
            "description": "",
            "description_tooltip": null,
            "layout": "IPY_MODEL_9db1c710a9d64d75ab74971c726feba7",
            "placeholder": "​",
            "style": "IPY_MODEL_08c66e4c74814fce98bd21091b756097",
            "value": "tokenizer_config.json: 100%"
          }
        },
        "c78b0c6802554c4090abcb19d70dfef4": {
          "model_module": "@jupyter-widgets/controls",
          "model_module_version": "1.5.0",
          "model_name": "ProgressStyleModel",
          "state": {
            "_model_module": "@jupyter-widgets/controls",
            "_model_module_version": "1.5.0",
            "_model_name": "ProgressStyleModel",
            "_view_count": null,
            "_view_module": "@jupyter-widgets/base",
            "_view_module_version": "1.2.0",
            "_view_name": "StyleView",
            "bar_color": null,
            "description_width": ""
          }
        },
        "c8f99a1504fd454a8220b923d7fcbfb2": {
          "model_module": "@jupyter-widgets/controls",
          "model_module_version": "1.5.0",
          "model_name": "HTMLModel",
          "state": {
            "_dom_classes": [],
            "_model_module": "@jupyter-widgets/controls",
            "_model_module_version": "1.5.0",
            "_model_name": "HTMLModel",
            "_view_count": null,
            "_view_module": "@jupyter-widgets/controls",
            "_view_module_version": "1.5.0",
            "_view_name": "HTMLView",
            "description": "",
            "description_tooltip": null,
            "layout": "IPY_MODEL_32b6e6dcb88a4d6d815db0f4d68e743d",
            "placeholder": "​",
            "style": "IPY_MODEL_5c89df391b31414ab7a689965c405c5d",
            "value": "config.json: 100%"
          }
        },
        "ce11361468ea4d50a41e3adf2f1073c2": {
          "model_module": "@jupyter-widgets/controls",
          "model_module_version": "1.5.0",
          "model_name": "FloatProgressModel",
          "state": {
            "_dom_classes": [],
            "_model_module": "@jupyter-widgets/controls",
            "_model_module_version": "1.5.0",
            "_model_name": "FloatProgressModel",
            "_view_count": null,
            "_view_module": "@jupyter-widgets/controls",
            "_view_module_version": "1.5.0",
            "_view_name": "ProgressView",
            "bar_style": "success",
            "description": "",
            "description_tooltip": null,
            "layout": "IPY_MODEL_c0b8d93f43f644dbbdad8d658ecf589f",
            "max": 898823,
            "min": 0,
            "orientation": "horizontal",
            "style": "IPY_MODEL_bd333de581ae4a7d95fdbddfc77cbf38",
            "value": 898823
          }
        },
        "d067670f9e474b05a5c71a570a99c52f": {
          "model_module": "@jupyter-widgets/controls",
          "model_module_version": "1.5.0",
          "model_name": "DescriptionStyleModel",
          "state": {
            "_model_module": "@jupyter-widgets/controls",
            "_model_module_version": "1.5.0",
            "_model_name": "DescriptionStyleModel",
            "_view_count": null,
            "_view_module": "@jupyter-widgets/base",
            "_view_module_version": "1.2.0",
            "_view_name": "StyleView",
            "description_width": ""
          }
        },
        "d2c63fe401ed4748b55509521fb99d66": {
          "model_module": "@jupyter-widgets/base",
          "model_module_version": "1.2.0",
          "model_name": "LayoutModel",
          "state": {
            "_model_module": "@jupyter-widgets/base",
            "_model_module_version": "1.2.0",
            "_model_name": "LayoutModel",
            "_view_count": null,
            "_view_module": "@jupyter-widgets/base",
            "_view_module_version": "1.2.0",
            "_view_name": "LayoutView",
            "align_content": null,
            "align_items": null,
            "align_self": null,
            "border": null,
            "bottom": null,
            "display": null,
            "flex": null,
            "flex_flow": null,
            "grid_area": null,
            "grid_auto_columns": null,
            "grid_auto_flow": null,
            "grid_auto_rows": null,
            "grid_column": null,
            "grid_gap": null,
            "grid_row": null,
            "grid_template_areas": null,
            "grid_template_columns": null,
            "grid_template_rows": null,
            "height": null,
            "justify_content": null,
            "justify_items": null,
            "left": null,
            "margin": null,
            "max_height": null,
            "max_width": null,
            "min_height": null,
            "min_width": null,
            "object_fit": null,
            "object_position": null,
            "order": null,
            "overflow": null,
            "overflow_x": null,
            "overflow_y": null,
            "padding": null,
            "right": null,
            "top": null,
            "visibility": null,
            "width": null
          }
        },
        "d42bcf9c7d874fdfba09d0e170795b43": {
          "model_module": "@jupyter-widgets/controls",
          "model_module_version": "1.5.0",
          "model_name": "DescriptionStyleModel",
          "state": {
            "_model_module": "@jupyter-widgets/controls",
            "_model_module_version": "1.5.0",
            "_model_name": "DescriptionStyleModel",
            "_view_count": null,
            "_view_module": "@jupyter-widgets/base",
            "_view_module_version": "1.2.0",
            "_view_name": "StyleView",
            "description_width": ""
          }
        },
        "da465a76ed4a48749f821147af4951bc": {
          "model_module": "@jupyter-widgets/controls",
          "model_module_version": "1.5.0",
          "model_name": "HTMLModel",
          "state": {
            "_dom_classes": [],
            "_model_module": "@jupyter-widgets/controls",
            "_model_module_version": "1.5.0",
            "_model_name": "HTMLModel",
            "_view_count": null,
            "_view_module": "@jupyter-widgets/controls",
            "_view_module_version": "1.5.0",
            "_view_name": "HTMLView",
            "description": "",
            "description_tooltip": null,
            "layout": "IPY_MODEL_6b0e00685da34c92b5d02f000c6dbad3",
            "placeholder": "​",
            "style": "IPY_MODEL_fb93ed9e7fb744c79430f1bf0e562d30",
            "value": " 570/570 [00:00&lt;00:00, 43.5kB/s]"
          }
        },
        "dbe9a77f8472486a8341433fade4972d": {
          "model_module": "@jupyter-widgets/controls",
          "model_module_version": "1.5.0",
          "model_name": "DescriptionStyleModel",
          "state": {
            "_model_module": "@jupyter-widgets/controls",
            "_model_module_version": "1.5.0",
            "_model_name": "DescriptionStyleModel",
            "_view_count": null,
            "_view_module": "@jupyter-widgets/base",
            "_view_module_version": "1.2.0",
            "_view_name": "StyleView",
            "description_width": ""
          }
        },
        "e1007ab5bc914801981cdfd4da8bca61": {
          "model_module": "@jupyter-widgets/controls",
          "model_module_version": "1.5.0",
          "model_name": "HBoxModel",
          "state": {
            "_dom_classes": [],
            "_model_module": "@jupyter-widgets/controls",
            "_model_module_version": "1.5.0",
            "_model_name": "HBoxModel",
            "_view_count": null,
            "_view_module": "@jupyter-widgets/controls",
            "_view_module_version": "1.5.0",
            "_view_name": "HBoxView",
            "box_style": "",
            "children": [
              "IPY_MODEL_2132038bff82412eade8d679e99c9fa9",
              "IPY_MODEL_89ead500f7154d23be9a066d6567ba27",
              "IPY_MODEL_147675ee58ea4fb792c1276712b46436"
            ],
            "layout": "IPY_MODEL_5546dd31db3241abb43308aebd871bd7"
          }
        },
        "e16537b55335499db7a80915a25c4956": {
          "model_module": "@jupyter-widgets/controls",
          "model_module_version": "1.5.0",
          "model_name": "HTMLModel",
          "state": {
            "_dom_classes": [],
            "_model_module": "@jupyter-widgets/controls",
            "_model_module_version": "1.5.0",
            "_model_name": "HTMLModel",
            "_view_count": null,
            "_view_module": "@jupyter-widgets/controls",
            "_view_module_version": "1.5.0",
            "_view_name": "HTMLView",
            "description": "",
            "description_tooltip": null,
            "layout": "IPY_MODEL_edda0bbd7cb948a3850f180da214b80c",
            "placeholder": "​",
            "style": "IPY_MODEL_0a5c2bbad5ec4bdc9e326f9a5c912c33",
            "value": "tokenizer.json: 100%"
          }
        },
        "e455cee3a0c74916a5e975a84bc25d40": {
          "model_module": "@jupyter-widgets/controls",
          "model_module_version": "1.5.0",
          "model_name": "HTMLModel",
          "state": {
            "_dom_classes": [],
            "_model_module": "@jupyter-widgets/controls",
            "_model_module_version": "1.5.0",
            "_model_name": "HTMLModel",
            "_view_count": null,
            "_view_module": "@jupyter-widgets/controls",
            "_view_module_version": "1.5.0",
            "_view_name": "HTMLView",
            "description": "",
            "description_tooltip": null,
            "layout": "IPY_MODEL_ae3bbae787114c65b76ee2104b26568e",
            "placeholder": "​",
            "style": "IPY_MODEL_3337645af2524de1a9de9bc3af2f998d",
            "value": "tokenizer_config.json: 100%"
          }
        },
        "e6a76ac7d44c485490dab2f035f86a0f": {
          "model_module": "@jupyter-widgets/controls",
          "model_module_version": "1.5.0",
          "model_name": "HBoxModel",
          "state": {
            "_dom_classes": [],
            "_model_module": "@jupyter-widgets/controls",
            "_model_module_version": "1.5.0",
            "_model_name": "HBoxModel",
            "_view_count": null,
            "_view_module": "@jupyter-widgets/controls",
            "_view_module_version": "1.5.0",
            "_view_name": "HBoxView",
            "box_style": "",
            "children": [
              "IPY_MODEL_c8f99a1504fd454a8220b923d7fcbfb2",
              "IPY_MODEL_7267e8b6d20b4f86b4811785769e50e4",
              "IPY_MODEL_57a8007912c04f31b6673fa49c259d05"
            ],
            "layout": "IPY_MODEL_d2c63fe401ed4748b55509521fb99d66"
          }
        },
        "e7f3c036f819495f8b739d36ab26ac1c": {
          "model_module": "@jupyter-widgets/controls",
          "model_module_version": "1.5.0",
          "model_name": "FloatProgressModel",
          "state": {
            "_dom_classes": [],
            "_model_module": "@jupyter-widgets/controls",
            "_model_module_version": "1.5.0",
            "_model_name": "FloatProgressModel",
            "_view_count": null,
            "_view_module": "@jupyter-widgets/controls",
            "_view_module_version": "1.5.0",
            "_view_name": "ProgressView",
            "bar_style": "success",
            "description": "",
            "description_tooltip": null,
            "layout": "IPY_MODEL_78c42da109a14f56ab88067b08b6a695",
            "max": 48,
            "min": 0,
            "orientation": "horizontal",
            "style": "IPY_MODEL_c78b0c6802554c4090abcb19d70dfef4",
            "value": 48
          }
        },
        "e952269a59a14b5580dd8e83b2d7ab0e": {
          "model_module": "@jupyter-widgets/base",
          "model_module_version": "1.2.0",
          "model_name": "LayoutModel",
          "state": {
            "_model_module": "@jupyter-widgets/base",
            "_model_module_version": "1.2.0",
            "_model_name": "LayoutModel",
            "_view_count": null,
            "_view_module": "@jupyter-widgets/base",
            "_view_module_version": "1.2.0",
            "_view_name": "LayoutView",
            "align_content": null,
            "align_items": null,
            "align_self": null,
            "border": null,
            "bottom": null,
            "display": null,
            "flex": null,
            "flex_flow": null,
            "grid_area": null,
            "grid_auto_columns": null,
            "grid_auto_flow": null,
            "grid_auto_rows": null,
            "grid_column": null,
            "grid_gap": null,
            "grid_row": null,
            "grid_template_areas": null,
            "grid_template_columns": null,
            "grid_template_rows": null,
            "height": null,
            "justify_content": null,
            "justify_items": null,
            "left": null,
            "margin": null,
            "max_height": null,
            "max_width": null,
            "min_height": null,
            "min_width": null,
            "object_fit": null,
            "object_position": null,
            "order": null,
            "overflow": null,
            "overflow_x": null,
            "overflow_y": null,
            "padding": null,
            "right": null,
            "top": null,
            "visibility": null,
            "width": null
          }
        },
        "eb4b145ed05a42c098ecea3c7869e778": {
          "model_module": "@jupyter-widgets/controls",
          "model_module_version": "1.5.0",
          "model_name": "HBoxModel",
          "state": {
            "_dom_classes": [],
            "_model_module": "@jupyter-widgets/controls",
            "_model_module_version": "1.5.0",
            "_model_name": "HBoxModel",
            "_view_count": null,
            "_view_module": "@jupyter-widgets/controls",
            "_view_module_version": "1.5.0",
            "_view_name": "HBoxView",
            "box_style": "",
            "children": [
              "IPY_MODEL_6a73aadadf8e4f69b328167deaf0e359",
              "IPY_MODEL_13a554be0cc8457ab4dab12b3985c386",
              "IPY_MODEL_44d553a36b8741aabbd7a8cea0f0de09"
            ],
            "layout": "IPY_MODEL_32dea1d9de444a1caf1306c42deff6d8"
          }
        },
        "edda0bbd7cb948a3850f180da214b80c": {
          "model_module": "@jupyter-widgets/base",
          "model_module_version": "1.2.0",
          "model_name": "LayoutModel",
          "state": {
            "_model_module": "@jupyter-widgets/base",
            "_model_module_version": "1.2.0",
            "_model_name": "LayoutModel",
            "_view_count": null,
            "_view_module": "@jupyter-widgets/base",
            "_view_module_version": "1.2.0",
            "_view_name": "LayoutView",
            "align_content": null,
            "align_items": null,
            "align_self": null,
            "border": null,
            "bottom": null,
            "display": null,
            "flex": null,
            "flex_flow": null,
            "grid_area": null,
            "grid_auto_columns": null,
            "grid_auto_flow": null,
            "grid_auto_rows": null,
            "grid_column": null,
            "grid_gap": null,
            "grid_row": null,
            "grid_template_areas": null,
            "grid_template_columns": null,
            "grid_template_rows": null,
            "height": null,
            "justify_content": null,
            "justify_items": null,
            "left": null,
            "margin": null,
            "max_height": null,
            "max_width": null,
            "min_height": null,
            "min_width": null,
            "object_fit": null,
            "object_position": null,
            "order": null,
            "overflow": null,
            "overflow_x": null,
            "overflow_y": null,
            "padding": null,
            "right": null,
            "top": null,
            "visibility": null,
            "width": null
          }
        },
        "ee72243b9cc24797bf46a6e3e89dfb00": {
          "model_module": "@jupyter-widgets/controls",
          "model_module_version": "1.5.0",
          "model_name": "DescriptionStyleModel",
          "state": {
            "_model_module": "@jupyter-widgets/controls",
            "_model_module_version": "1.5.0",
            "_model_name": "DescriptionStyleModel",
            "_view_count": null,
            "_view_module": "@jupyter-widgets/base",
            "_view_module_version": "1.2.0",
            "_view_name": "StyleView",
            "description_width": ""
          }
        },
        "ee77bf4612fb4b2faccdfa4455f9d271": {
          "model_module": "@jupyter-widgets/base",
          "model_module_version": "1.2.0",
          "model_name": "LayoutModel",
          "state": {
            "_model_module": "@jupyter-widgets/base",
            "_model_module_version": "1.2.0",
            "_model_name": "LayoutModel",
            "_view_count": null,
            "_view_module": "@jupyter-widgets/base",
            "_view_module_version": "1.2.0",
            "_view_name": "LayoutView",
            "align_content": null,
            "align_items": null,
            "align_self": null,
            "border": null,
            "bottom": null,
            "display": null,
            "flex": null,
            "flex_flow": null,
            "grid_area": null,
            "grid_auto_columns": null,
            "grid_auto_flow": null,
            "grid_auto_rows": null,
            "grid_column": null,
            "grid_gap": null,
            "grid_row": null,
            "grid_template_areas": null,
            "grid_template_columns": null,
            "grid_template_rows": null,
            "height": null,
            "justify_content": null,
            "justify_items": null,
            "left": null,
            "margin": null,
            "max_height": null,
            "max_width": null,
            "min_height": null,
            "min_width": null,
            "object_fit": null,
            "object_position": null,
            "order": null,
            "overflow": null,
            "overflow_x": null,
            "overflow_y": null,
            "padding": null,
            "right": null,
            "top": null,
            "visibility": null,
            "width": null
          }
        },
        "f3121c1f27af4fa4b23bf61137b63c5b": {
          "model_module": "@jupyter-widgets/controls",
          "model_module_version": "1.5.0",
          "model_name": "HTMLModel",
          "state": {
            "_dom_classes": [],
            "_model_module": "@jupyter-widgets/controls",
            "_model_module_version": "1.5.0",
            "_model_name": "HTMLModel",
            "_view_count": null,
            "_view_module": "@jupyter-widgets/controls",
            "_view_module_version": "1.5.0",
            "_view_name": "HTMLView",
            "description": "",
            "description_tooltip": null,
            "layout": "IPY_MODEL_48274cbca6784ee1bfbc5d32f07aa548",
            "placeholder": "​",
            "style": "IPY_MODEL_ee72243b9cc24797bf46a6e3e89dfb00",
            "value": " 456k/456k [00:00&lt;00:00, 29.1MB/s]"
          }
        },
        "f34c1b81e7c844719acbde7bf17f816a": {
          "model_module": "@jupyter-widgets/base",
          "model_module_version": "1.2.0",
          "model_name": "LayoutModel",
          "state": {
            "_model_module": "@jupyter-widgets/base",
            "_model_module_version": "1.2.0",
            "_model_name": "LayoutModel",
            "_view_count": null,
            "_view_module": "@jupyter-widgets/base",
            "_view_module_version": "1.2.0",
            "_view_name": "LayoutView",
            "align_content": null,
            "align_items": null,
            "align_self": null,
            "border": null,
            "bottom": null,
            "display": null,
            "flex": null,
            "flex_flow": null,
            "grid_area": null,
            "grid_auto_columns": null,
            "grid_auto_flow": null,
            "grid_auto_rows": null,
            "grid_column": null,
            "grid_gap": null,
            "grid_row": null,
            "grid_template_areas": null,
            "grid_template_columns": null,
            "grid_template_rows": null,
            "height": null,
            "justify_content": null,
            "justify_items": null,
            "left": null,
            "margin": null,
            "max_height": null,
            "max_width": null,
            "min_height": null,
            "min_width": null,
            "object_fit": null,
            "object_position": null,
            "order": null,
            "overflow": null,
            "overflow_x": null,
            "overflow_y": null,
            "padding": null,
            "right": null,
            "top": null,
            "visibility": null,
            "width": null
          }
        },
        "f6304a9ed0254808be4cc88f8242ddd1": {
          "model_module": "@jupyter-widgets/controls",
          "model_module_version": "1.5.0",
          "model_name": "FloatProgressModel",
          "state": {
            "_dom_classes": [],
            "_model_module": "@jupyter-widgets/controls",
            "_model_module_version": "1.5.0",
            "_model_name": "FloatProgressModel",
            "_view_count": null,
            "_view_module": "@jupyter-widgets/controls",
            "_view_module_version": "1.5.0",
            "_view_name": "ProgressView",
            "bar_style": "success",
            "description": "",
            "description_tooltip": null,
            "layout": "IPY_MODEL_29608758670e4638a311b6bbef50472a",
            "max": 456318,
            "min": 0,
            "orientation": "horizontal",
            "style": "IPY_MODEL_adc6c5c2ec434d29bdbdbc53daa75da0",
            "value": 456318
          }
        },
        "f82c8adc28ab44dfa2ef7eeedbccc275": {
          "model_module": "@jupyter-widgets/controls",
          "model_module_version": "1.5.0",
          "model_name": "HTMLModel",
          "state": {
            "_dom_classes": [],
            "_model_module": "@jupyter-widgets/controls",
            "_model_module_version": "1.5.0",
            "_model_name": "HTMLModel",
            "_view_count": null,
            "_view_module": "@jupyter-widgets/controls",
            "_view_module_version": "1.5.0",
            "_view_name": "HTMLView",
            "description": "",
            "description_tooltip": null,
            "layout": "IPY_MODEL_e952269a59a14b5580dd8e83b2d7ab0e",
            "placeholder": "​",
            "style": "IPY_MODEL_13a3d9fec0bc460d8f382b8a74af40e5",
            "value": "merges.txt: 100%"
          }
        },
        "fb93ed9e7fb744c79430f1bf0e562d30": {
          "model_module": "@jupyter-widgets/controls",
          "model_module_version": "1.5.0",
          "model_name": "DescriptionStyleModel",
          "state": {
            "_model_module": "@jupyter-widgets/controls",
            "_model_module_version": "1.5.0",
            "_model_name": "DescriptionStyleModel",
            "_view_count": null,
            "_view_module": "@jupyter-widgets/base",
            "_view_module_version": "1.2.0",
            "_view_name": "StyleView",
            "description_width": ""
          }
        },
        "fcab55e643b244a4aae7b810deb2518a": {
          "model_module": "@jupyter-widgets/base",
          "model_module_version": "1.2.0",
          "model_name": "LayoutModel",
          "state": {
            "_model_module": "@jupyter-widgets/base",
            "_model_module_version": "1.2.0",
            "_model_name": "LayoutModel",
            "_view_count": null,
            "_view_module": "@jupyter-widgets/base",
            "_view_module_version": "1.2.0",
            "_view_name": "LayoutView",
            "align_content": null,
            "align_items": null,
            "align_self": null,
            "border": null,
            "bottom": null,
            "display": null,
            "flex": null,
            "flex_flow": null,
            "grid_area": null,
            "grid_auto_columns": null,
            "grid_auto_flow": null,
            "grid_auto_rows": null,
            "grid_column": null,
            "grid_gap": null,
            "grid_row": null,
            "grid_template_areas": null,
            "grid_template_columns": null,
            "grid_template_rows": null,
            "height": null,
            "justify_content": null,
            "justify_items": null,
            "left": null,
            "margin": null,
            "max_height": null,
            "max_width": null,
            "min_height": null,
            "min_width": null,
            "object_fit": null,
            "object_position": null,
            "order": null,
            "overflow": null,
            "overflow_x": null,
            "overflow_y": null,
            "padding": null,
            "right": null,
            "top": null,
            "visibility": null,
            "width": null
          }
        }
      }
    }
  },
  "nbformat": 4,
  "nbformat_minor": 0
}
